{
 "cells": [
  {
   "cell_type": "markdown",
   "metadata": {},
   "source": [
    "# What is the True Normal Human Body Temperature? \n",
    "\n",
    "#### Background\n",
    "\n",
    "The mean normal body temperature was held to be 37$^{\\circ}$C or 98.6$^{\\circ}$F for more than 120 years since it was first conceptualized and reported by Carl Wunderlich in a famous 1868 book. But, is this value statistically correct?"
   ]
  },
  {
   "cell_type": "markdown",
   "metadata": {},
   "source": [
    "<h3>Exercises</h3>\n",
    "\n",
    "<p>In this exercise, you will analyze a dataset of human body temperatures and employ the concepts of hypothesis testing, confidence intervals, and statistical significance.</p>\n",
    "\n",
    "<p>Answer the following questions <b>in this notebook below and submit to your Github account</b>.</p> \n",
    "\n",
    "<ol>\n",
    "<li>  Is the distribution of body temperatures normal? \n",
    "    <ul>\n",
    "    <li> Although this is not a requirement for the Central Limit Theorem to hold (read the introduction on Wikipedia's page about the CLT carefully: https://en.wikipedia.org/wiki/Central_limit_theorem), it gives us some peace of mind that the population may also be normally distributed if we assume that this sample is representative of the population.\n",
    "    <li> Think about the way you're going to check for the normality of the distribution. Graphical methods are usually used first, but there are also other ways: https://en.wikipedia.org/wiki/Normality_test\n",
    "    </ul>\n",
    "<li>  Is the sample size large? Are the observations independent?\n",
    "    <ul>\n",
    "    <li> Remember that this is a condition for the Central Limit Theorem, and hence the statistical tests we are using, to apply.\n",
    "    </ul>\n",
    "<li>  Is the true population mean really 98.6 degrees F?\n",
    "    <ul>\n",
    "    <li> First, try a bootstrap hypothesis test.\n",
    "    <li> Now, let's try frequentist statistical testing. Would you use a one-sample or two-sample test? Why?\n",
    "    <li> In this situation, is it appropriate to use the $t$ or $z$ statistic? \n",
    "    <li> Now try using the other test. How is the result be different? Why?\n",
    "    </ul>\n",
    "<li>  Draw a small sample of size 10 from the data and repeat both frequentist tests. \n",
    "    <ul>\n",
    "    <li> Which one is the correct one to use? \n",
    "    <li> What do you notice? What does this tell you about the difference in application of the $t$ and $z$ statistic?\n",
    "    </ul>\n",
    "<li>  At what temperature should we consider someone's temperature to be \"abnormal\"?\n",
    "    <ul>\n",
    "    <li> As in the previous example, try calculating everything using the boostrap approach, as well as the frequentist approach.\n",
    "    <li> Start by computing the margin of error and confidence interval. When calculating the confidence interval, keep in mind that you should use the appropriate formula for one draw, and not N draws.\n",
    "    </ul>\n",
    "<li>  Is there a significant difference between males and females in normal temperature?\n",
    "    <ul>\n",
    "    <li> What testing approach did you use and why?\n",
    "    <li> Write a story with your conclusion in the context of the original problem.\n",
    "    </ul>\n",
    "</ol>\n",
    "\n",
    "You can include written notes in notebook cells using Markdown: \n",
    "   - In the control panel at the top, choose Cell > Cell Type > Markdown\n",
    "   - Markdown syntax: http://nestacms.com/docs/creating-content/markdown-cheat-sheet\n",
    "\n",
    "#### Resources\n",
    "\n",
    "+ Information and data sources: http://www.amstat.org/publications/jse/datasets/normtemp.txt, http://www.amstat.org/publications/jse/jse_data_archive.htm\n",
    "+ Markdown syntax: http://nestacms.com/docs/creating-content/markdown-cheat-sheet\n",
    "\n",
    "****"
   ]
  },
  {
   "cell_type": "code",
   "execution_count": 1,
   "metadata": {},
   "outputs": [],
   "source": [
    "import pandas as pd\n",
    "\n",
    "df = pd.read_csv('data/human_body_temperature.csv')"
   ]
  },
  {
   "cell_type": "code",
   "execution_count": 2,
   "metadata": {},
   "outputs": [
    {
     "data": {
      "text/html": [
       "<div>\n",
       "<style scoped>\n",
       "    .dataframe tbody tr th:only-of-type {\n",
       "        vertical-align: middle;\n",
       "    }\n",
       "\n",
       "    .dataframe tbody tr th {\n",
       "        vertical-align: top;\n",
       "    }\n",
       "\n",
       "    .dataframe thead th {\n",
       "        text-align: right;\n",
       "    }\n",
       "</style>\n",
       "<table border=\"1\" class=\"dataframe\">\n",
       "  <thead>\n",
       "    <tr style=\"text-align: right;\">\n",
       "      <th></th>\n",
       "      <th>temperature</th>\n",
       "      <th>gender</th>\n",
       "      <th>heart_rate</th>\n",
       "    </tr>\n",
       "  </thead>\n",
       "  <tbody>\n",
       "    <tr>\n",
       "      <th>0</th>\n",
       "      <td>99.3</td>\n",
       "      <td>F</td>\n",
       "      <td>68.0</td>\n",
       "    </tr>\n",
       "    <tr>\n",
       "      <th>1</th>\n",
       "      <td>98.4</td>\n",
       "      <td>F</td>\n",
       "      <td>81.0</td>\n",
       "    </tr>\n",
       "    <tr>\n",
       "      <th>2</th>\n",
       "      <td>97.8</td>\n",
       "      <td>M</td>\n",
       "      <td>73.0</td>\n",
       "    </tr>\n",
       "    <tr>\n",
       "      <th>3</th>\n",
       "      <td>99.2</td>\n",
       "      <td>F</td>\n",
       "      <td>66.0</td>\n",
       "    </tr>\n",
       "    <tr>\n",
       "      <th>4</th>\n",
       "      <td>98.0</td>\n",
       "      <td>F</td>\n",
       "      <td>73.0</td>\n",
       "    </tr>\n",
       "  </tbody>\n",
       "</table>\n",
       "</div>"
      ],
      "text/plain": [
       "   temperature gender  heart_rate\n",
       "0         99.3      F        68.0\n",
       "1         98.4      F        81.0\n",
       "2         97.8      M        73.0\n",
       "3         99.2      F        66.0\n",
       "4         98.0      F        73.0"
      ]
     },
     "execution_count": 2,
     "metadata": {},
     "output_type": "execute_result"
    }
   ],
   "source": [
    "#taking a first look at the data\n",
    "df.head(5)"
   ]
  },
  {
   "cell_type": "code",
   "execution_count": 3,
   "metadata": {},
   "outputs": [
    {
     "name": "stdout",
     "output_type": "stream",
     "text": [
      "<class 'pandas.core.frame.DataFrame'>\n",
      "RangeIndex: 130 entries, 0 to 129\n",
      "Data columns (total 3 columns):\n",
      "temperature    130 non-null float64\n",
      "gender         130 non-null object\n",
      "heart_rate     130 non-null float64\n",
      "dtypes: float64(2), object(1)\n",
      "memory usage: 3.1+ KB\n"
     ]
    }
   ],
   "source": [
    "#note: temperature is measured in F; two categories for gender; heart rate measured in beats per minute\n",
    "\n",
    "df.info()"
   ]
  },
  {
   "cell_type": "code",
   "execution_count": 4,
   "metadata": {},
   "outputs": [
    {
     "data": {
      "text/html": [
       "<div>\n",
       "<style scoped>\n",
       "    .dataframe tbody tr th:only-of-type {\n",
       "        vertical-align: middle;\n",
       "    }\n",
       "\n",
       "    .dataframe tbody tr th {\n",
       "        vertical-align: top;\n",
       "    }\n",
       "\n",
       "    .dataframe thead th {\n",
       "        text-align: right;\n",
       "    }\n",
       "</style>\n",
       "<table border=\"1\" class=\"dataframe\">\n",
       "  <thead>\n",
       "    <tr style=\"text-align: right;\">\n",
       "      <th></th>\n",
       "      <th>temperature</th>\n",
       "      <th>heart_rate</th>\n",
       "    </tr>\n",
       "  </thead>\n",
       "  <tbody>\n",
       "    <tr>\n",
       "      <th>count</th>\n",
       "      <td>130.000000</td>\n",
       "      <td>130.000000</td>\n",
       "    </tr>\n",
       "    <tr>\n",
       "      <th>mean</th>\n",
       "      <td>98.249231</td>\n",
       "      <td>73.761538</td>\n",
       "    </tr>\n",
       "    <tr>\n",
       "      <th>std</th>\n",
       "      <td>0.733183</td>\n",
       "      <td>7.062077</td>\n",
       "    </tr>\n",
       "    <tr>\n",
       "      <th>min</th>\n",
       "      <td>96.300000</td>\n",
       "      <td>57.000000</td>\n",
       "    </tr>\n",
       "    <tr>\n",
       "      <th>25%</th>\n",
       "      <td>97.800000</td>\n",
       "      <td>69.000000</td>\n",
       "    </tr>\n",
       "    <tr>\n",
       "      <th>50%</th>\n",
       "      <td>98.300000</td>\n",
       "      <td>74.000000</td>\n",
       "    </tr>\n",
       "    <tr>\n",
       "      <th>75%</th>\n",
       "      <td>98.700000</td>\n",
       "      <td>79.000000</td>\n",
       "    </tr>\n",
       "    <tr>\n",
       "      <th>max</th>\n",
       "      <td>100.800000</td>\n",
       "      <td>89.000000</td>\n",
       "    </tr>\n",
       "  </tbody>\n",
       "</table>\n",
       "</div>"
      ],
      "text/plain": [
       "       temperature  heart_rate\n",
       "count   130.000000  130.000000\n",
       "mean     98.249231   73.761538\n",
       "std       0.733183    7.062077\n",
       "min      96.300000   57.000000\n",
       "25%      97.800000   69.000000\n",
       "50%      98.300000   74.000000\n",
       "75%      98.700000   79.000000\n",
       "max     100.800000   89.000000"
      ]
     },
     "execution_count": 4,
     "metadata": {},
     "output_type": "execute_result"
    }
   ],
   "source": [
    "df.describe()"
   ]
  },
  {
   "cell_type": "markdown",
   "metadata": {},
   "source": [
    "# Question 1: Normality Tests"
   ]
  },
  {
   "cell_type": "code",
   "execution_count": 9,
   "metadata": {},
   "outputs": [
    {
     "data": {
      "image/png": "[encoded data removed]",
      "text/plain": [
       "<Figure size 432x288 with 1 Axes>"
      ]
     },
     "metadata": {
      "needs_background": "light"
     },
     "output_type": "display_data"
    },
    {
     "name": "stdout",
     "output_type": "stream",
     "text": [
      "98.24923076923078\n",
      "0.730357778905038\n"
     ]
    }
   ],
   "source": [
    "#normality test 1: graphically\n",
    "import matplotlib.pyplot as plt\n",
    "import numpy as np\n",
    "import scipy.stats as stats\n",
    "\n",
    "#plot histogram of body temperatures, using the sqrt rule for bins\n",
    "df_temp = sorted(df['temperature'])\n",
    "n_df_temp = len(df_temp)\n",
    "\n",
    "n_bins = np.sqrt(n_df_temp)\n",
    "n_bins = int(n_bins)\n",
    "\n",
    "##compute mean and std\n",
    "mean_temp = np.mean(df_temp)\n",
    "std_temp = np.std(df_temp)\n",
    "\n",
    "##plot histrogram\n",
    "_ = plt.hist(df_temp, bins=n_bins)\n",
    "\n",
    "#label title and axises\n",
    "_ = plt.title('Histogram of Temperature')\n",
    "_ = plt.xlabel('temperature (F)')\n",
    "_ = plt.ylabel('frequency')\n",
    "\n",
    "plt.show()\n",
    "print(mean_temp)\n",
    "print(std_temp)"
   ]
  },
  {
   "cell_type": "markdown",
   "metadata": {},
   "source": [
    "The distribution has a larger tail (more values) on the left and smaller tail (less values) on the right with most data points concentrated at ~98.5 degrees (similar to the mean of 98.6)."
   ]
  },
  {
   "cell_type": "code",
   "execution_count": 11,
   "metadata": {},
   "outputs": [
    {
     "data": {
      "image/png": "[encoded data removed]",
      "text/plain": [
       "<Figure size 432x288 with 1 Axes>"
      ]
     },
     "metadata": {
      "needs_background": "light"
     },
     "output_type": "display_data"
    }
   ],
   "source": [
    "#now let's add a pdf to compare against the normal dist\n",
    "fit = stats.norm.pdf(df_temp, mean_temp, std_temp)\n",
    "\n",
    "_ = plt.plot(df_temp, fit, '-o')\n",
    "_ = plt.hist(df_temp, bins=n_bins, density=True)\n",
    "\n",
    "#label title and axises\n",
    "_ = plt.title('Histogram of Temperature')\n",
    "_ = plt.xlabel('temperature (F)')\n",
    "_ = plt.ylabel('frequency')\n",
    "\n",
    "plt.show()"
   ]
  },
  {
   "cell_type": "markdown",
   "metadata": {},
   "source": [
    "Note: the distribution is a bit easier to see now and looks like it approaches the normal distribution. There are still fewer values on the right compared to the left. This is difficult to see since the sample is small (130 observations).  "
   ]
  },
  {
   "cell_type": "code",
   "execution_count": 12,
   "metadata": {},
   "outputs": [
    {
     "data": {
      "image/png": "[encoded data removed]",
      "text/plain": [
       "<Figure size 432x288 with 1 Axes>"
      ]
     },
     "metadata": {
      "needs_background": "light"
     },
     "output_type": "display_data"
    },
    {
     "data": {
      "text/plain": [
       "NormaltestResult(statistic=2.703801433319236, pvalue=0.2587479863488212)"
      ]
     },
     "execution_count": 12,
     "metadata": {},
     "output_type": "execute_result"
    }
   ],
   "source": [
    "#normality test 2: normal probability plot and SciPy's normality test\n",
    "\n",
    "#construct the normal probability plot\n",
    "_ = stats.probplot(df_temp, plot=plt)\n",
    "plt.show()\n",
    "\n",
    "stats.normaltest(df_temp)"
   ]
  },
  {
   "cell_type": "markdown",
   "metadata": {},
   "source": [
    "Note: The observed normal probability plot and SciPy's test suggests that the sample follows a normal distribution. The p-value of 0.25 > 0.05, which means our decision is to fail to reject the null hypothesis that the sample follows a normal distribution. We'll verify with an empirical CDF test. "
   ]
  },
  {
   "cell_type": "code",
   "execution_count": 13,
   "metadata": {},
   "outputs": [
    {
     "data": {
      "image/png": "[encoded data removed]",
      "text/plain": [
       "<Figure size 432x288 with 1 Axes>"
      ]
     },
     "metadata": {
      "needs_background": "light"
     },
     "output_type": "display_data"
    }
   ],
   "source": [
    "#Define an empirical CDF function\n",
    "def ecdf(data):\n",
    "    \"\"\"Generate ECDF for array\"\"\"\n",
    "    x = np.sort(data)\n",
    "    y = np.arange(1.0, len(data)+1) / len(data)\n",
    "    \n",
    "    return x, y\n",
    "\n",
    "#sample the normal distribution given sample mean and std\n",
    "normal = np.random.normal(mean_temp, std_temp, 10000)\n",
    "\n",
    "#call the ecdf function\n",
    "x, y = ecdf(df_temp)\n",
    "x_norm, y_norm = ecdf(normal)\n",
    "\n",
    "#plot the call\n",
    "_ = plt.plot(x_norm, y_norm)\n",
    "_ = plt.plot(x, y, marker=\".\", ls=\"none\")\n",
    "_ = plt.xlabel(\"Temperature\")\n",
    "_ = plt.ylabel(\"ECDF\")\n",
    "plt.show()"
   ]
  },
  {
   "cell_type": "markdown",
   "metadata": {},
   "source": [
    "The sample ECDF appears to follow the expected CDF relatively close and confirms our prior conclusion that the temperatures data set follows a normal distribution. "
   ]
  },
  {
   "cell_type": "markdown",
   "metadata": {},
   "source": [
    "### Conclusion: The sample follows a normal distribution. "
   ]
  },
  {
   "cell_type": "markdown",
   "metadata": {},
   "source": [
    "# Question 2: Is the sample size large? Are the observations independent?"
   ]
  },
  {
   "cell_type": "markdown",
   "metadata": {},
   "source": [
    "Note: The sample includes 130 observations which is larger than 30, making it a large sample. We will assume that the observations are independent as one person's body metrics (temp, gender, and heartbeat) do not affect the others'."
   ]
  },
  {
   "cell_type": "markdown",
   "metadata": {},
   "source": [
    "### Conclusion: The sampe is large, the observations are independent, so we can apply Central Limit Theorem and relevant statistical tests."
   ]
  },
  {
   "cell_type": "markdown",
   "metadata": {},
   "source": [
    "# Question 3: Is the true population mean really 98.6 degrees F?\n",
    "\n",
    "* First, try a bootstrap hypothesis test.\n",
    "* Now, let's try frequentist statistical testing. Would you use a one-sample or two-sample test? Why?\n",
    "* In this situation, is it appropriate to use the  t  or  z  statistic?\n",
    "* Now try using the other test. How is the result be different? Why?"
   ]
  },
  {
   "cell_type": "markdown",
   "metadata": {},
   "source": [
    "First, to set up the solution to Question 3, we'll clarify a few of the sub-questions:\n",
    "\n",
    "Q: Is it best to use a one-sample or two-sample test and why? \n",
    "\n",
    "A: Here, it is best to use a one-sample test since we are comparing one set of data to a single value. \n",
    "\n",
    "\n",
    "Q: Is it best to use the t or z statistic? \n",
    "\n",
    "A: Here, it is best to use a t-statistic since the population std is unknown. "
   ]
  },
  {
   "cell_type": "markdown",
   "metadata": {},
   "source": [
    "## First, we'll conduct a bootstrap hypothesis test: \n",
    "\n",
    "* Null hypothesis: True population mean is 98.6\n",
    "* Alternative hypothesis: True population mean is not 98.6"
   ]
  },
  {
   "cell_type": "code",
   "execution_count": 32,
   "metadata": {},
   "outputs": [],
   "source": [
    "#Replicate of resampled data array function\n",
    "\n",
    "def reps(data, function): \n",
    "    \"\"\"Return replicate of a resampled data array.\"\"\"\n",
    "    \n",
    "    #Create resampled array and return stat:\n",
    "    return function(np.random.choice(data, size=len(data)))\n",
    "\n",
    "\n",
    "\n",
    "#Bootstrap replicates function\n",
    "\n",
    "def draw_bsreps(data, func, size=1):\n",
    "    \"\"\"Draw bootstrap replicates.\"\"\"\n",
    "    \n",
    "    #Initialize array of replicates\n",
    "    bs_replicates = np.empty(size)\n",
    "    \n",
    "    #Generate replicates\n",
    "    for i in range(size): \n",
    "        bs_replicates[i] = reps(data, func)\n",
    "        \n",
    "    return bs_replicates"
   ]
  },
  {
   "cell_type": "code",
   "execution_count": 15,
   "metadata": {},
   "outputs": [
    {
     "name": "stdout",
     "output_type": "stream",
     "text": [
      "p-value = 0.0\n"
     ]
    }
   ],
   "source": [
    "#Seed the random number generator\n",
    "np.random.seed(25)\n",
    "\n",
    "#Array of shifted temperatures\n",
    "shifted_temp = df_temp - mean_temp + 98.6\n",
    "\n",
    "#Draw bootstrap replicates of shifted temperatures\n",
    "shifted_replicates = draw_bsreps(shifted_temp, np.mean, 10000)\n",
    "\n",
    "#Compute p-value\n",
    "p = np.sum(shifted_replicates <= mean_temp) / len(shifted_replicates)\n",
    "\n",
    "print('p-value =', p)"
   ]
  },
  {
   "cell_type": "markdown",
   "metadata": {},
   "source": [
    "We can interpret this bootstrap test as: in every test conducted in our boostrap is significantly less than 0.01, so the null hypothesis (that the mean is 98.6) is rejected. "
   ]
  },
  {
   "cell_type": "markdown",
   "metadata": {},
   "source": [
    "## Second, we try frequentist statistical testing using a one-sided test with a t-statistic. "
   ]
  },
  {
   "cell_type": "code",
   "execution_count": 16,
   "metadata": {},
   "outputs": [
    {
     "name": "stdout",
     "output_type": "stream",
     "text": [
      "t-stat is: -5.454823292364077\n",
      "p-value is: 2.410632041561008e-07\n"
     ]
    }
   ],
   "source": [
    "#Test the null hypothesis that the population mean is 98.6\n",
    "mu = 98.6\n",
    "\n",
    "#Conduct one sided test\n",
    "t_stat, t_pval = stats.ttest_1samp(df_temp, mu)\n",
    "\n",
    "print(\"t-stat is:\", t_stat)\n",
    "print(\"p-value is:\", t_pval)"
   ]
  },
  {
   "cell_type": "markdown",
   "metadata": {},
   "source": [
    "## Then, we compare with a z-test. "
   ]
  },
  {
   "cell_type": "code",
   "execution_count": 18,
   "metadata": {},
   "outputs": [
    {
     "name": "stdout",
     "output_type": "stream",
     "text": [
      "z-stat is: -5.454823292364077\n",
      "p-value is: 4.902157014113424e-08\n"
     ]
    }
   ],
   "source": [
    "from statsmodels.stats.weightstats import ztest\n",
    "\n",
    "#Calculate the standard error of the mean\n",
    "z_stat, z_pval = ztest(df_temp, value=mu)\n",
    "\n",
    "print(\"z-stat is:\", z_stat)\n",
    "print(\"p-value is:\", z_pval)"
   ]
  },
  {
   "cell_type": "markdown",
   "metadata": {},
   "source": [
    "Note: As expected, the z-statistics is close to the t-statistic. The p-value is also low, just like the bootstrap test. "
   ]
  },
  {
   "cell_type": "code",
   "execution_count": 19,
   "metadata": {},
   "outputs": [
    {
     "name": "stdout",
     "output_type": "stream",
     "text": [
      "-3.3675464541818454 3.367546454181878\n"
     ]
    }
   ],
   "source": [
    "#Confidence level and degrees of freedom\n",
    "print((stats.t.ppf(q=0.0005, df=n_df_temp-1)), (stats.t.ppf(q=0.9995, df=n_df_temp-1)))"
   ]
  },
  {
   "cell_type": "markdown",
   "metadata": {},
   "source": [
    "Note: Our t-statistic (5.45) falls outside the t-distribution for a 99.9% confidence interval. "
   ]
  },
  {
   "cell_type": "markdown",
   "metadata": {},
   "source": [
    "### Conclusion: Based on the evidence from our boostrapped hypothesis test, t-test, and z-test, we reject the null hypothesis that the population mean is 98.6. "
   ]
  },
  {
   "cell_type": "markdown",
   "metadata": {},
   "source": [
    "# Question 4: Draw a small sample of size 10 from the data and repeat both frequentist tests.\n",
    "\n",
    "* Which one is the correct one to use?\n",
    "* What do you notice? What does this tell you about the difference in application of the  t  and  z  statistic?"
   ]
  },
  {
   "cell_type": "markdown",
   "metadata": {},
   "source": [
    "First, to clarify on the sub-questions: \n",
    "\n",
    "Q: Which is the correct one to use?\n",
    "\n",
    "A: Before evaluation, the t-test is traditionally the correct one to use, as the population is unknown and the sample (10) is small."
   ]
  },
  {
   "cell_type": "code",
   "execution_count": 20,
   "metadata": {},
   "outputs": [
    {
     "data": {
      "text/plain": [
       "array([96.3, 98.9, 98.7, 99.5, 98.4, 98.3, 98.7, 99.5, 98.4, 99.2])"
      ]
     },
     "execution_count": 20,
     "metadata": {},
     "output_type": "execute_result"
    }
   ],
   "source": [
    "#First, draw a random sample of size=10 from the temp df\n",
    "df_temp_sample10 = np.random.choice(df_temp, size=10)\n",
    "df_temp_sample10"
   ]
  },
  {
   "cell_type": "code",
   "execution_count": 26,
   "metadata": {},
   "outputs": [
    {
     "name": "stdout",
     "output_type": "stream",
     "text": [
      "Ttest_1sampResult(statistic=-1.8605210188381243, pvalue=0.09573390947125973)\n",
      "(-1.8605210188381243, 0.06281184751609906)\n"
     ]
    }
   ],
   "source": [
    "#Now conduct both tests\n",
    "print(stats.ttest_1samp(df_temp_sample10, mu))\n",
    "print(ztest(df_temp_sample10, value=mu))"
   ]
  },
  {
   "cell_type": "markdown",
   "metadata": {},
   "source": [
    "Note: Both the t-stat and z-stat are lower and the p-value is higher. "
   ]
  },
  {
   "cell_type": "code",
   "execution_count": 21,
   "metadata": {},
   "outputs": [
    {
     "name": "stdout",
     "output_type": "stream",
     "text": [
      "-2.262157162740992 2.2621571627409915\n",
      "-4.780912585933472 4.7809125859335495\n"
     ]
    }
   ],
   "source": [
    "#Print quantiles of the t-distribution at 95%\n",
    "print((stats.t.ppf(q=0.025, df=10-1)), (stats.t.ppf(q=0.975, df=10-1)))\n",
    "\n",
    "#Print quantiles of the t-distribution at 99%\n",
    "print((stats.t.ppf(q=0.0005, df=10-1)), (stats.t.ppf(q=0.9995, df=10-1)))"
   ]
  },
  {
   "cell_type": "markdown",
   "metadata": {},
   "source": [
    "### Conclusion: Both tests fall inside their respective distributions, but their pvalues are high. We cannot reject the null hypothesis that the population mean is 98.6F in this case. This is most likely due to the small sample size."
   ]
  },
  {
   "cell_type": "markdown",
   "metadata": {},
   "source": [
    "# Question 5: At what temperature should we consider someone's temperature to be \"abnormal\"?"
   ]
  },
  {
   "cell_type": "markdown",
   "metadata": {},
   "source": [
    "* As in the previous example, try calculating everything using the boostrap approach, as well as the frequentist approach.\n",
    "* Start by computing the margin of error and confidence interval. When calculating the confidence interval, keep in mind that you should use the appropriate formula for one draw, and not N draws."
   ]
  },
  {
   "cell_type": "code",
   "execution_count": 27,
   "metadata": {},
   "outputs": [
    {
     "name": "stdout",
     "output_type": "stream",
     "text": [
      "1.959963984540054\n"
     ]
    }
   ],
   "source": [
    "from scipy.stats import norm\n",
    "\n",
    "#Start by computing margin of error and confidence interval\n",
    "\n",
    "z_critic = norm.ppf(0.975)\n",
    "print(z_critic)"
   ]
  },
  {
   "cell_type": "code",
   "execution_count": 28,
   "metadata": {},
   "outputs": [
    {
     "name": "stdout",
     "output_type": "stream",
     "text": [
      "Standard Error of the Mean is: 0.06405661469519337\n",
      "Margin of Error: 0.12554865777413818\n"
     ]
    }
   ],
   "source": [
    "##Calculate sem\n",
    "sem = std_temp / np.sqrt(n_df_temp)\n",
    "\n",
    "##Calculate moe\n",
    "moe = z_critic * sem\n",
    "print(\"Standard Error of the Mean is:\", sem)\n",
    "print(\"Margin of Error:\", moe)"
   ]
  },
  {
   "cell_type": "code",
   "execution_count": 30,
   "metadata": {},
   "outputs": [
    {
     "name": "stdout",
     "output_type": "stream",
     "text": [
      "97.5% Confidence Interval is: [98.12368211 98.37477943]\n"
     ]
    }
   ],
   "source": [
    "CI = np.array([mean_temp - moe, mean_temp + moe])\n",
    "print('97.5% Confidence Interval is:', CI)"
   ]
  },
  {
   "cell_type": "markdown",
   "metadata": {},
   "source": [
    "Note: At 99.9% confidence interval, the range of temperatures is only 98.04 and 98.5, which doesn't even include the proposed population mean of 98.6. Let's try the bootstrap approach."
   ]
  },
  {
   "cell_type": "code",
   "execution_count": 48,
   "metadata": {},
   "outputs": [],
   "source": [
    "replicates = draw_bsreps(df_temp, np.random.choice, 10000)"
   ]
  },
  {
   "cell_type": "code",
   "execution_count": 49,
   "metadata": {},
   "outputs": [
    {
     "name": "stdout",
     "output_type": "stream",
     "text": [
      "Standard Error of the Mean is: 0.007281785192519754\n",
      "Margin of Error: 0.014272036720495783\n"
     ]
    }
   ],
   "source": [
    "bs_std = np.std(replicates)\n",
    "\n",
    "##Calculate sem\n",
    "sem_replicates = bs_std / np.sqrt(len(replicates))\n",
    "\n",
    "##Calculate moe\n",
    "moe_replicates = z_critic * sem_replicates\n",
    "print(\"Standard Error of the Mean is:\", sem_replicates)\n",
    "print(\"Margin of Error:\", moe_replicates)"
   ]
  },
  {
   "cell_type": "code",
   "execution_count": 50,
   "metadata": {},
   "outputs": [
    {
     "name": "stdout",
     "output_type": "stream",
     "text": [
      "97.5% Confidence Interval of the Replicates is: [98.23551796 98.26406204]\n"
     ]
    }
   ],
   "source": [
    "CI = np.array([np.mean(replicates) - moe_replicates, np.mean(replicates) + moe_replicates])\n",
    "print('97.5% Confidence Interval of the Replicates is:', CI)"
   ]
  },
  {
   "cell_type": "markdown",
   "metadata": {},
   "source": [
    "Note: The estimations are understandable more certain the larger the sample size, so our approximation to \"abnormal\" becomes less realistic with our bootstrapped sample. We can create a more realistic approximation with a prediction interval."
   ]
  },
  {
   "cell_type": "code",
   "execution_count": 52,
   "metadata": {},
   "outputs": [
    {
     "name": "stdout",
     "output_type": "stream",
     "text": [
      "97.5% Prediction Interval is: (96.61220485146553, 99.88625668699602)\n"
     ]
    }
   ],
   "source": [
    "#Calculate the 97.5% prediction interval\n",
    "PI = stats.norm.interval(0.975, loc=mean_temp, scale=std_temp)\n",
    "print(\"97.5% Prediction Interval is:\", PI)"
   ]
  },
  {
   "cell_type": "markdown",
   "metadata": {},
   "source": [
    "### Conclusion: We consider the temperatures below 96.6F and above 99.9F to be \"abnormal. "
   ]
  },
  {
   "cell_type": "markdown",
   "metadata": {},
   "source": [
    "# Question 6: Is there a significant difference between males and females in normal temperature?\n",
    "* What testing approach did you use and why?\n",
    "* Write a story with your conclusion in the context of the original problem."
   ]
  },
  {
   "cell_type": "code",
   "execution_count": 57,
   "metadata": {},
   "outputs": [
    {
     "data": {
      "text/html": [
       "<div>\n",
       "<style scoped>\n",
       "    .dataframe tbody tr th:only-of-type {\n",
       "        vertical-align: middle;\n",
       "    }\n",
       "\n",
       "    .dataframe tbody tr th {\n",
       "        vertical-align: top;\n",
       "    }\n",
       "\n",
       "    .dataframe thead th {\n",
       "        text-align: right;\n",
       "    }\n",
       "</style>\n",
       "<table border=\"1\" class=\"dataframe\">\n",
       "  <thead>\n",
       "    <tr style=\"text-align: right;\">\n",
       "      <th></th>\n",
       "      <th>temperature</th>\n",
       "      <th>gender</th>\n",
       "      <th>heart_rate</th>\n",
       "    </tr>\n",
       "  </thead>\n",
       "  <tbody>\n",
       "    <tr>\n",
       "      <th>0</th>\n",
       "      <td>99.3</td>\n",
       "      <td>F</td>\n",
       "      <td>68.0</td>\n",
       "    </tr>\n",
       "    <tr>\n",
       "      <th>1</th>\n",
       "      <td>98.4</td>\n",
       "      <td>F</td>\n",
       "      <td>81.0</td>\n",
       "    </tr>\n",
       "    <tr>\n",
       "      <th>2</th>\n",
       "      <td>97.8</td>\n",
       "      <td>M</td>\n",
       "      <td>73.0</td>\n",
       "    </tr>\n",
       "    <tr>\n",
       "      <th>3</th>\n",
       "      <td>99.2</td>\n",
       "      <td>F</td>\n",
       "      <td>66.0</td>\n",
       "    </tr>\n",
       "    <tr>\n",
       "      <th>4</th>\n",
       "      <td>98.0</td>\n",
       "      <td>F</td>\n",
       "      <td>73.0</td>\n",
       "    </tr>\n",
       "  </tbody>\n",
       "</table>\n",
       "</div>"
      ],
      "text/plain": [
       "   temperature gender  heart_rate\n",
       "0         99.3      F        68.0\n",
       "1         98.4      F        81.0\n",
       "2         97.8      M        73.0\n",
       "3         99.2      F        66.0\n",
       "4         98.0      F        73.0"
      ]
     },
     "execution_count": 57,
     "metadata": {},
     "output_type": "execute_result"
    }
   ],
   "source": [
    "df.head()"
   ]
  },
  {
   "cell_type": "code",
   "execution_count": 58,
   "metadata": {},
   "outputs": [
    {
     "data": {
      "text/plain": [
       "0    99.3\n",
       "1    98.4\n",
       "3    99.2\n",
       "4    98.0\n",
       "8    98.4\n",
       "Name: temperature, dtype: float64"
      ]
     },
     "execution_count": 58,
     "metadata": {},
     "output_type": "execute_result"
    }
   ],
   "source": [
    "#First define the different data frames\n",
    "male_temp = df.temperature[df.gender == \"M\"]\n",
    "female_temp = df.temperature[df.gender == \"F\"]\n",
    "\n",
    "#look at the data frames to ensure they are different than one above\n",
    "male_temp.head()\n",
    "female_temp.head()"
   ]
  },
  {
   "cell_type": "code",
   "execution_count": 59,
   "metadata": {},
   "outputs": [
    {
     "name": "stdout",
     "output_type": "stream",
     "text": [
      "The mean body temperature of Male observations is: 98.1046153846154\n",
      "The mean body temperature of Female observations is: 98.39384615384613\n"
     ]
    }
   ],
   "source": [
    "#Estimate the means\n",
    "print(\"The mean body temperature of Male observations is:\", np.mean(male_temp))\n",
    "print(\"The mean body temperature of Female observations is:\", np.mean(female_temp))"
   ]
  },
  {
   "cell_type": "code",
   "execution_count": 61,
   "metadata": {},
   "outputs": [
    {
     "data": {
      "image/png": "[encoded data removed]",
      "text/plain": [
       "<Figure size 432x288 with 1 Axes>"
      ]
     },
     "metadata": {
      "needs_background": "light"
     },
     "output_type": "display_data"
    }
   ],
   "source": [
    "#Try comparing a box plot for visualization\n",
    "import seaborn as sns\n",
    "\n",
    "_ = sns.boxplot(x='gender', y='temperature', data=df)\n",
    "\n",
    "# tick mark font size, label axes and add title:\n",
    "_ = plt.tick_params(axis='x', which='major', labelsize=14)\n",
    "_ = plt.xlabel('Gender')\n",
    "_ = plt.ylabel('Temperature')\n",
    "_ = plt.title('Distribution of Female & Male Body Temperatures')\n",
    "\n",
    "# Display the plots:\n",
    "plt.show()"
   ]
  },
  {
   "cell_type": "markdown",
   "metadata": {},
   "source": [
    "Note: From both our quick summary means and box plot, we observe that there does seem to be a difference between the means. We'll now conduct a more thorough statistical analysis with a hypothesis test. For this test we use a two-sided t-test because we are comparing two samples and their means. "
   ]
  },
  {
   "cell_type": "markdown",
   "metadata": {},
   "source": [
    "* Null Hypothesis: mu_female = mu_male\n",
    "* Alternative Hypothesis: mu_female /= mu_male\n",
    "\n",
    "Significance Level: 95%"
   ]
  },
  {
   "cell_type": "code",
   "execution_count": 66,
   "metadata": {},
   "outputs": [
    {
     "name": "stdout",
     "output_type": "stream",
     "text": [
      "t-stat is: 2.2854345381656103\n",
      "p-value is: 0.02393188312239561\n"
     ]
    }
   ],
   "source": [
    "#try a two sided t-test\n",
    "mu_female = np.mean(female_temp)\n",
    "mu_male = np.mean(male_temp)\n",
    "\n",
    "#Conduct one sided test\n",
    "t_stat, t_pval = stats.ttest_ind(female_temp, male_temp)\n",
    "\n",
    "print(\"t-stat is:\", t_stat)\n",
    "print(\"p-value is:\", t_pval)"
   ]
  },
  {
   "cell_type": "code",
   "execution_count": 67,
   "metadata": {},
   "outputs": [
    {
     "name": "stdout",
     "output_type": "stream",
     "text": [
      "-1.9977296536259739 1.9977296536259734\n"
     ]
    }
   ],
   "source": [
    "#print confidence intervals\n",
    "print((stats.t.ppf(q=0.025, df=65-1)), (stats.t.ppf(q=0.975, df=65-1)))"
   ]
  },
  {
   "cell_type": "markdown",
   "metadata": {},
   "source": [
    "Note: Here we receive a t-statistic of 2.29 and a p-value of 0.024, so we reject the null hypothesis. From the box plot above, it does seem that females have slightly higher body temperatures. "
   ]
  },
  {
   "cell_type": "markdown",
   "metadata": {},
   "source": [
    "### Conclusion: There is a \"statistical significant\" difference in body temperatures between females and males, with females appearing to have a slightly higher mean body temperature. "
   ]
  },
  {
   "cell_type": "markdown",
   "metadata": {},
   "source": [
    "Note: In the context of the original problem: \n",
    "* \"The mean normal body temperature was held to be 37 ∘ C or 98.6 ∘ F for more than 120 years since it was first conceptualized and reported by Carl Wunderlich in a famous 1868 book. But, is this value statistically correct?\"\n",
    "\n",
    "it appears that females have a body temperature closer to this conceptualized body temperature. "
   ]
  },
  {
   "cell_type": "code",
   "execution_count": null,
   "metadata": {},
   "outputs": [],
   "source": []
  }
 ],
 "metadata": {
  "kernelspec": {
   "display_name": "Python 3",
   "language": "python",
   "name": "python3"
  },
  "language_info": {
   "codemirror_mode": {
    "name": "ipython",
    "version": 3
   },
   "file_extension": ".py",
   "mimetype": "text/x-python",
   "name": "python",
   "nbconvert_exporter": "python",
   "pygments_lexer": "ipython3",
   "version": "3.6.6"
  }
 },
 "nbformat": 4,
 "nbformat_minor": 1
}
