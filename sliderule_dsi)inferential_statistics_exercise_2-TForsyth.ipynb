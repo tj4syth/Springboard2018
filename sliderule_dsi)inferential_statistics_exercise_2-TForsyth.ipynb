{
 "cells": [
  {
   "cell_type": "markdown",
   "metadata": {},
   "source": [
    "# Examining Racial Discrimination in the US Job Market\n",
    "\n",
    "### Background\n",
    "Racial discrimination continues to be pervasive in cultures throughout the world. Researchers examined the level of racial discrimination in the United States labor market by randomly assigning identical résumés to black-sounding or white-sounding names and observing the impact on requests for interviews from employers.\n",
    "\n",
    "### Data\n",
    "In the dataset provided, each row represents a resume. The 'race' column has two values, 'b' and 'w', indicating black-sounding and white-sounding. The column 'call' has two values, 1 and 0, indicating whether the resume received a call from employers or not.\n",
    "\n",
    "Note that the 'b' and 'w' values in race are assigned randomly to the resumes when presented to the employer."
   ]
  },
  {
   "cell_type": "markdown",
   "metadata": {},
   "source": [
    "### Exercises\n",
    "You will perform a statistical analysis to establish whether race has a significant impact on the rate of callbacks for resumes.\n",
    "\n",
    "Answer the following questions **in this notebook below and submit to your Github account**. \n",
    "\n",
    "   1. What test is appropriate for this problem? Does CLT apply?\n",
    "   2. What are the null and alternate hypotheses?\n",
    "   3. Compute margin of error, confidence interval, and p-value. Try using both the bootstrapping and the frequentist statistical approaches.\n",
    "   4. Write a story describing the statistical significance in the context or the original problem.\n",
    "   5. Does your analysis mean that race/name is the most important factor in callback success? Why or why not? If not, how would you amend your analysis?\n",
    "\n",
    "You can include written notes in notebook cells using Markdown: \n",
    "   - In the control panel at the top, choose Cell > Cell Type > Markdown\n",
    "   - Markdown syntax: http://nestacms.com/docs/creating-content/markdown-cheat-sheet\n",
    "\n",
    "#### Resources\n",
    "+ Experiment information and data source: http://www.povertyactionlab.org/evaluation/discrimination-job-market-united-states\n",
    "+ Scipy statistical methods: http://docs.scipy.org/doc/scipy/reference/stats.html \n",
    "+ Markdown syntax: http://nestacms.com/docs/creating-content/markdown-cheat-sheet\n",
    "+ Formulas for the Bernoulli distribution: https://en.wikipedia.org/wiki/Bernoulli_distribution"
   ]
  },
  {
   "cell_type": "code",
   "execution_count": 1,
   "metadata": {},
   "outputs": [],
   "source": [
    "import pandas as pd\n",
    "import numpy as np\n",
    "from scipy import stats"
   ]
  },
  {
   "cell_type": "code",
   "execution_count": 2,
   "metadata": {},
   "outputs": [],
   "source": [
    "data = pd.io.stata.read_stata('data/us_job_market_discrimination.dta')"
   ]
  },
  {
   "cell_type": "code",
   "execution_count": 3,
   "metadata": {},
   "outputs": [
    {
     "data": {
      "text/plain": [
       "235.0"
      ]
     },
     "execution_count": 3,
     "metadata": {},
     "output_type": "execute_result"
    }
   ],
   "source": [
    "#Number of callbacks for black-sounding names\n",
    "sum(data[data.race=='w'].call)"
   ]
  },
  {
   "cell_type": "code",
   "execution_count": 4,
   "metadata": {},
   "outputs": [
    {
     "data": {
      "text/html": [
       "<div>\n",
       "<style scoped>\n",
       "    .dataframe tbody tr th:only-of-type {\n",
       "        vertical-align: middle;\n",
       "    }\n",
       "\n",
       "    .dataframe tbody tr th {\n",
       "        vertical-align: top;\n",
       "    }\n",
       "\n",
       "    .dataframe thead th {\n",
       "        text-align: right;\n",
       "    }\n",
       "</style>\n",
       "<table border=\"1\" class=\"dataframe\">\n",
       "  <thead>\n",
       "    <tr style=\"text-align: right;\">\n",
       "      <th></th>\n",
       "      <th>id</th>\n",
       "      <th>ad</th>\n",
       "      <th>education</th>\n",
       "      <th>ofjobs</th>\n",
       "      <th>yearsexp</th>\n",
       "      <th>honors</th>\n",
       "      <th>volunteer</th>\n",
       "      <th>military</th>\n",
       "      <th>empholes</th>\n",
       "      <th>occupspecific</th>\n",
       "      <th>...</th>\n",
       "      <th>compreq</th>\n",
       "      <th>orgreq</th>\n",
       "      <th>manuf</th>\n",
       "      <th>transcom</th>\n",
       "      <th>bankreal</th>\n",
       "      <th>trade</th>\n",
       "      <th>busservice</th>\n",
       "      <th>othservice</th>\n",
       "      <th>missind</th>\n",
       "      <th>ownership</th>\n",
       "    </tr>\n",
       "  </thead>\n",
       "  <tbody>\n",
       "    <tr>\n",
       "      <th>0</th>\n",
       "      <td>b</td>\n",
       "      <td>1</td>\n",
       "      <td>4</td>\n",
       "      <td>2</td>\n",
       "      <td>6</td>\n",
       "      <td>0</td>\n",
       "      <td>0</td>\n",
       "      <td>0</td>\n",
       "      <td>1</td>\n",
       "      <td>17</td>\n",
       "      <td>...</td>\n",
       "      <td>1.0</td>\n",
       "      <td>0.0</td>\n",
       "      <td>1.0</td>\n",
       "      <td>0.0</td>\n",
       "      <td>0.0</td>\n",
       "      <td>0.0</td>\n",
       "      <td>0.0</td>\n",
       "      <td>0.0</td>\n",
       "      <td>0.0</td>\n",
       "      <td></td>\n",
       "    </tr>\n",
       "    <tr>\n",
       "      <th>1</th>\n",
       "      <td>b</td>\n",
       "      <td>1</td>\n",
       "      <td>3</td>\n",
       "      <td>3</td>\n",
       "      <td>6</td>\n",
       "      <td>0</td>\n",
       "      <td>1</td>\n",
       "      <td>1</td>\n",
       "      <td>0</td>\n",
       "      <td>316</td>\n",
       "      <td>...</td>\n",
       "      <td>1.0</td>\n",
       "      <td>0.0</td>\n",
       "      <td>1.0</td>\n",
       "      <td>0.0</td>\n",
       "      <td>0.0</td>\n",
       "      <td>0.0</td>\n",
       "      <td>0.0</td>\n",
       "      <td>0.0</td>\n",
       "      <td>0.0</td>\n",
       "      <td></td>\n",
       "    </tr>\n",
       "    <tr>\n",
       "      <th>2</th>\n",
       "      <td>b</td>\n",
       "      <td>1</td>\n",
       "      <td>4</td>\n",
       "      <td>1</td>\n",
       "      <td>6</td>\n",
       "      <td>0</td>\n",
       "      <td>0</td>\n",
       "      <td>0</td>\n",
       "      <td>0</td>\n",
       "      <td>19</td>\n",
       "      <td>...</td>\n",
       "      <td>1.0</td>\n",
       "      <td>0.0</td>\n",
       "      <td>1.0</td>\n",
       "      <td>0.0</td>\n",
       "      <td>0.0</td>\n",
       "      <td>0.0</td>\n",
       "      <td>0.0</td>\n",
       "      <td>0.0</td>\n",
       "      <td>0.0</td>\n",
       "      <td></td>\n",
       "    </tr>\n",
       "    <tr>\n",
       "      <th>3</th>\n",
       "      <td>b</td>\n",
       "      <td>1</td>\n",
       "      <td>3</td>\n",
       "      <td>4</td>\n",
       "      <td>6</td>\n",
       "      <td>0</td>\n",
       "      <td>1</td>\n",
       "      <td>0</td>\n",
       "      <td>1</td>\n",
       "      <td>313</td>\n",
       "      <td>...</td>\n",
       "      <td>1.0</td>\n",
       "      <td>0.0</td>\n",
       "      <td>1.0</td>\n",
       "      <td>0.0</td>\n",
       "      <td>0.0</td>\n",
       "      <td>0.0</td>\n",
       "      <td>0.0</td>\n",
       "      <td>0.0</td>\n",
       "      <td>0.0</td>\n",
       "      <td></td>\n",
       "    </tr>\n",
       "    <tr>\n",
       "      <th>4</th>\n",
       "      <td>b</td>\n",
       "      <td>1</td>\n",
       "      <td>3</td>\n",
       "      <td>3</td>\n",
       "      <td>22</td>\n",
       "      <td>0</td>\n",
       "      <td>0</td>\n",
       "      <td>0</td>\n",
       "      <td>0</td>\n",
       "      <td>313</td>\n",
       "      <td>...</td>\n",
       "      <td>1.0</td>\n",
       "      <td>1.0</td>\n",
       "      <td>0.0</td>\n",
       "      <td>0.0</td>\n",
       "      <td>0.0</td>\n",
       "      <td>0.0</td>\n",
       "      <td>0.0</td>\n",
       "      <td>1.0</td>\n",
       "      <td>0.0</td>\n",
       "      <td>Nonprofit</td>\n",
       "    </tr>\n",
       "  </tbody>\n",
       "</table>\n",
       "<p>5 rows × 65 columns</p>\n",
       "</div>"
      ],
      "text/plain": [
       "  id ad  education  ofjobs  yearsexp  honors  volunteer  military  empholes  \\\n",
       "0  b  1          4       2         6       0          0         0         1   \n",
       "1  b  1          3       3         6       0          1         1         0   \n",
       "2  b  1          4       1         6       0          0         0         0   \n",
       "3  b  1          3       4         6       0          1         0         1   \n",
       "4  b  1          3       3        22       0          0         0         0   \n",
       "\n",
       "   occupspecific    ...      compreq  orgreq  manuf  transcom  bankreal trade  \\\n",
       "0             17    ...          1.0     0.0    1.0       0.0       0.0   0.0   \n",
       "1            316    ...          1.0     0.0    1.0       0.0       0.0   0.0   \n",
       "2             19    ...          1.0     0.0    1.0       0.0       0.0   0.0   \n",
       "3            313    ...          1.0     0.0    1.0       0.0       0.0   0.0   \n",
       "4            313    ...          1.0     1.0    0.0       0.0       0.0   0.0   \n",
       "\n",
       "  busservice othservice  missind  ownership  \n",
       "0        0.0        0.0      0.0             \n",
       "1        0.0        0.0      0.0             \n",
       "2        0.0        0.0      0.0             \n",
       "3        0.0        0.0      0.0             \n",
       "4        0.0        1.0      0.0  Nonprofit  \n",
       "\n",
       "[5 rows x 65 columns]"
      ]
     },
     "execution_count": 4,
     "metadata": {},
     "output_type": "execute_result"
    }
   ],
   "source": [
    "data.head()"
   ]
  },
  {
   "cell_type": "code",
   "execution_count": 9,
   "metadata": {},
   "outputs": [
    {
     "name": "stdout",
     "output_type": "stream",
     "text": [
      "<class 'pandas.core.frame.DataFrame'>\n",
      "Int64Index: 4870 entries, 0 to 4869\n",
      "Data columns (total 65 columns):\n",
      "id                    4870 non-null object\n",
      "ad                    4870 non-null object\n",
      "education             4870 non-null int8\n",
      "ofjobs                4870 non-null int8\n",
      "yearsexp              4870 non-null int8\n",
      "honors                4870 non-null int8\n",
      "volunteer             4870 non-null int8\n",
      "military              4870 non-null int8\n",
      "empholes              4870 non-null int8\n",
      "occupspecific         4870 non-null int16\n",
      "occupbroad            4870 non-null int8\n",
      "workinschool          4870 non-null int8\n",
      "email                 4870 non-null int8\n",
      "computerskills        4870 non-null int8\n",
      "specialskills         4870 non-null int8\n",
      "firstname             4870 non-null object\n",
      "sex                   4870 non-null object\n",
      "race                  4870 non-null object\n",
      "h                     4870 non-null float32\n",
      "l                     4870 non-null float32\n",
      "call                  4870 non-null float32\n",
      "city                  4870 non-null object\n",
      "kind                  4870 non-null object\n",
      "adid                  4870 non-null float32\n",
      "fracblack             4784 non-null float32\n",
      "fracwhite             4784 non-null float32\n",
      "lmedhhinc             4784 non-null float32\n",
      "fracdropout           4784 non-null float32\n",
      "fraccolp              4784 non-null float32\n",
      "linc                  4784 non-null float32\n",
      "col                   4870 non-null float32\n",
      "expminreq             4870 non-null object\n",
      "schoolreq             4870 non-null object\n",
      "eoe                   4870 non-null float32\n",
      "parent_sales          1672 non-null float32\n",
      "parent_emp            1722 non-null float32\n",
      "branch_sales          608 non-null float32\n",
      "branch_emp            658 non-null float32\n",
      "fed                   3102 non-null float32\n",
      "fracblack_empzip      1918 non-null float32\n",
      "fracwhite_empzip      1918 non-null float32\n",
      "lmedhhinc_empzip      1908 non-null float32\n",
      "fracdropout_empzip    1918 non-null float32\n",
      "fraccolp_empzip       1918 non-null float32\n",
      "linc_empzip           1918 non-null float32\n",
      "manager               4870 non-null float32\n",
      "supervisor            4870 non-null float32\n",
      "secretary             4870 non-null float32\n",
      "offsupport            4870 non-null float32\n",
      "salesrep              4870 non-null float32\n",
      "retailsales           4870 non-null float32\n",
      "req                   4870 non-null float32\n",
      "expreq                4870 non-null float32\n",
      "comreq                4870 non-null float32\n",
      "educreq               4870 non-null float32\n",
      "compreq               4870 non-null float32\n",
      "orgreq                4870 non-null float32\n",
      "manuf                 4870 non-null float32\n",
      "transcom              4870 non-null float32\n",
      "bankreal              4870 non-null float32\n",
      "trade                 4870 non-null float32\n",
      "busservice            4870 non-null float32\n",
      "othservice            4870 non-null float32\n",
      "missind               4870 non-null float32\n",
      "ownership             4870 non-null object\n",
      "dtypes: float32(42), int16(1), int8(12), object(10)\n",
      "memory usage: 1.3+ MB\n"
     ]
    }
   ],
   "source": [
    "#Inspect dataframe\n",
    "data.info()"
   ]
  },
  {
   "cell_type": "code",
   "execution_count": 12,
   "metadata": {},
   "outputs": [
    {
     "name": "stdout",
     "output_type": "stream",
     "text": [
      "NULL count for 'call' column: 0\n",
      "NULL count for 'race' column: 0\n",
      "Count of duplicate records: 0\n"
     ]
    }
   ],
   "source": [
    "#Get null counts\n",
    "print(\"NULL count for 'call' column:\", data.call.isnull().sum())\n",
    "print(\"NULL count for 'race' column:\", data.race.isnull().sum())\n",
    "\n",
    "#Get duplicate counts\n",
    "print(\"Count of duplicate records:\", data.duplicated().sum())"
   ]
  },
  {
   "cell_type": "markdown",
   "metadata": {},
   "source": [
    "Note: There are no null values or duplicates in our sample."
   ]
  },
  {
   "cell_type": "markdown",
   "metadata": {},
   "source": [
    "# Question 1: What test is appropriate for this problem? Does CLT apply?"
   ]
  },
  {
   "cell_type": "markdown",
   "metadata": {},
   "source": [
    "In order to apply the appropriat test and use the CLT, we consider two things: \n",
    "* Size of sample: is it large? \n",
    "* Nature of observations: are they independent? "
   ]
  },
  {
   "cell_type": "code",
   "execution_count": 8,
   "metadata": {},
   "outputs": [
    {
     "name": "stdout",
     "output_type": "stream",
     "text": [
      "Number of observations for white resumes: 2435\n",
      "Number of observations for black resumes: 2435\n"
     ]
    }
   ],
   "source": [
    "#Let's get a closer look at the data in terms of frequencies\n",
    "##Special Note: both of the variables of interest (b/w and 1/0 are Bernoulli random variables)\n",
    "w = data[data.race=='w']\n",
    "b = data[data.race=='b']\n",
    "\n",
    "print(\"Number of observations for white resumes:\", len(w))\n",
    "print(\"Number of observations for black resumes:\", len(b))"
   ]
  },
  {
   "cell_type": "markdown",
   "metadata": {},
   "source": [
    "* The sample includes 2435 observations for each category (b, w), which is larger than 30, making it a large sample. We assume that the observations are independent as the resumes were randomly selected and one person's resume does not affect the others'."
   ]
  },
  {
   "cell_type": "markdown",
   "metadata": {},
   "source": [
    "* Since the rate of callbacks per b/w category is compared, the sample size is large, and the observations are independent, both a binomial test and z-test is appropriate for this problem."
   ]
  },
  {
   "cell_type": "code",
   "execution_count": 85,
   "metadata": {},
   "outputs": [
    {
     "name": "stdout",
     "output_type": "stream",
     "text": [
      "Total number of black sounding names: 2435\n",
      "Total number of white sounding names: 2435\n",
      "Total callbacks: 392\n",
      "Total no callbacks: 4478\n",
      "Number of callbacks for black sounding names: 157\n",
      "Number of no callbacks for black sounding names: 2278\n",
      "Number of callbacks for white sounding names: 235\n",
      "Number of no callbacks for white sounding names: 2200\n"
     ]
    }
   ],
   "source": [
    "#Totals, Callbacks, and Proportions filtered by race\n",
    "\n",
    "b_all = data.race[data.race == \"b\"].count()\n",
    "w_all = data.race[data.race == \"w\"].count()\n",
    "\n",
    "call_all = data.call[data.call == 1].count()\n",
    "nocall_all = data.call[data.call == 0].count()\n",
    "\n",
    "b_callbacks = data.loc[(data.race == \"b\") & (data.call == 1), \"call\"].count()\n",
    "b_nocallbacks = data.loc[(data.race=='b') & (data.call == 0), \"call\"].count()\n",
    "\n",
    "w_callbacks = data.loc[(data.race == \"w\") & (data.call == 1), \"call\"].count()\n",
    "w_nocallbacks = data.loc[(data.race == \"w\") & (data.call == 0), \"call\"].count()\n",
    "\n",
    "print(\"Total number of black sounding names:\", b_all)\n",
    "print(\"Total number of white sounding names:\", w_all)\n",
    "\n",
    "print(\"Total callbacks:\", call_all)\n",
    "print(\"Total no callbacks:\", nocall_all)\n",
    "\n",
    "print(\"Number of callbacks for black sounding names:\", b_callbacks)\n",
    "print(\"Number of no callbacks for black sounding names:\", b_nocallbacks)\n",
    "print(\"Number of callbacks for white sounding names:\", w_callbacks)\n",
    "print(\"Number of no callbacks for white sounding names:\", w_nocallbacks)"
   ]
  },
  {
   "cell_type": "code",
   "execution_count": 15,
   "metadata": {},
   "outputs": [
    {
     "data": {
      "text/html": [
       "<div>\n",
       "<style scoped>\n",
       "    .dataframe tbody tr th:only-of-type {\n",
       "        vertical-align: middle;\n",
       "    }\n",
       "\n",
       "    .dataframe tbody tr th {\n",
       "        vertical-align: top;\n",
       "    }\n",
       "\n",
       "    .dataframe thead th {\n",
       "        text-align: right;\n",
       "    }\n",
       "</style>\n",
       "<table border=\"1\" class=\"dataframe\">\n",
       "  <thead>\n",
       "    <tr style=\"text-align: right;\">\n",
       "      <th>race</th>\n",
       "      <th>b</th>\n",
       "      <th>w</th>\n",
       "      <th>All</th>\n",
       "    </tr>\n",
       "    <tr>\n",
       "      <th>call</th>\n",
       "      <th></th>\n",
       "      <th></th>\n",
       "      <th></th>\n",
       "    </tr>\n",
       "  </thead>\n",
       "  <tbody>\n",
       "    <tr>\n",
       "      <th>0.0</th>\n",
       "      <td>2278</td>\n",
       "      <td>2200</td>\n",
       "      <td>4478</td>\n",
       "    </tr>\n",
       "    <tr>\n",
       "      <th>1.0</th>\n",
       "      <td>157</td>\n",
       "      <td>235</td>\n",
       "      <td>392</td>\n",
       "    </tr>\n",
       "    <tr>\n",
       "      <th>All</th>\n",
       "      <td>2435</td>\n",
       "      <td>2435</td>\n",
       "      <td>4870</td>\n",
       "    </tr>\n",
       "  </tbody>\n",
       "</table>\n",
       "</div>"
      ],
      "text/plain": [
       "race     b     w   All\n",
       "call                  \n",
       "0.0   2278  2200  4478\n",
       "1.0    157   235   392\n",
       "All   2435  2435  4870"
      ]
     },
     "execution_count": 15,
     "metadata": {},
     "output_type": "execute_result"
    }
   ],
   "source": [
    "##Create a frequency table for callback status by race \n",
    "callback_race_table = pd.crosstab(index=data.call, columns=data.race, margins=True)\n",
    "callback_race_table"
   ]
  },
  {
   "cell_type": "code",
   "execution_count": 16,
   "metadata": {},
   "outputs": [
    {
     "name": "stdout",
     "output_type": "stream",
     "text": [
      "Callbacks by Race (Black (B) and White (W)):\n"
     ]
    },
    {
     "data": {
      "text/html": [
       "<div>\n",
       "<style scoped>\n",
       "    .dataframe tbody tr th:only-of-type {\n",
       "        vertical-align: middle;\n",
       "    }\n",
       "\n",
       "    .dataframe tbody tr th {\n",
       "        vertical-align: top;\n",
       "    }\n",
       "\n",
       "    .dataframe thead th {\n",
       "        text-align: right;\n",
       "    }\n",
       "</style>\n",
       "<table border=\"1\" class=\"dataframe\">\n",
       "  <thead>\n",
       "    <tr style=\"text-align: right;\">\n",
       "      <th></th>\n",
       "      <th>B</th>\n",
       "      <th>W</th>\n",
       "      <th>Total</th>\n",
       "    </tr>\n",
       "  </thead>\n",
       "  <tbody>\n",
       "    <tr>\n",
       "      <th>No</th>\n",
       "      <td>2278</td>\n",
       "      <td>2200</td>\n",
       "      <td>4478</td>\n",
       "    </tr>\n",
       "    <tr>\n",
       "      <th>Yes</th>\n",
       "      <td>157</td>\n",
       "      <td>235</td>\n",
       "      <td>392</td>\n",
       "    </tr>\n",
       "    <tr>\n",
       "      <th>Total</th>\n",
       "      <td>2435</td>\n",
       "      <td>2435</td>\n",
       "      <td>4870</td>\n",
       "    </tr>\n",
       "  </tbody>\n",
       "</table>\n",
       "</div>"
      ],
      "text/plain": [
       "          B     W  Total\n",
       "No     2278  2200   4478\n",
       "Yes     157   235    392\n",
       "Total  2435  2435   4870"
      ]
     },
     "execution_count": 16,
     "metadata": {},
     "output_type": "execute_result"
    }
   ],
   "source": [
    "callback_race_table.index=['No', 'Yes', 'Total']\n",
    "callback_race_table.columns=['B', 'W', 'Total']\n",
    "print(\"Callbacks by Race (Black (B) and White (W)):\")\n",
    "callback_race_table"
   ]
  },
  {
   "cell_type": "markdown",
   "metadata": {},
   "source": [
    "### Conclusion: The sample size is large enough to use CTL, and we will test with a proportional z-test to evaluate the data."
   ]
  },
  {
   "cell_type": "markdown",
   "metadata": {},
   "source": [
    "# Question 2: What are the null and alternate hypotheses?"
   ]
  },
  {
   "cell_type": "markdown",
   "metadata": {},
   "source": [
    "From the table above, it appears that white names seem to receive more callbacks (235/2435) and black names receive less (157/2435). \n",
    "\n",
    "In order to further evaluate this, the null and alternative hypothesises are stated as follows: \n",
    "* Null Hypothesis: The effect of \"race\" (B) = 0\n",
    "* Alternative Hypoethesis: The effect of \"race\" (B) > 0\n",
    "\n",
    "Our significant level is 95%, with a = 0.05. "
   ]
  },
  {
   "cell_type": "markdown",
   "metadata": {},
   "source": [
    "# Question 3: Compute margin of error, confidence interval, and p-value. \n",
    "* Try using both the bootstrapping and the frequentist statistical approaches."
   ]
  },
  {
   "cell_type": "code",
   "execution_count": 48,
   "metadata": {},
   "outputs": [
    {
     "name": "stdout",
     "output_type": "stream",
     "text": [
      "The mean callback is: 0.08049281686544418\n",
      "The std callback is: 0.27205151319503784\n",
      "The length of the data is: 4870\n"
     ]
    }
   ],
   "source": [
    "#Start by computing the mean and standard deviation\n",
    "mean_callbacks = np.mean(data.call)\n",
    "std_callbacks = np.std(data.call)\n",
    "n_data = len(data)\n",
    "\n",
    "#NOTE: the \"call\" field is a binary variable\n",
    "print(\"The mean callback is:\", mean_callback)\n",
    "print(\"The std callback is:\", std_callback)\n",
    "print(\"The length of the data is:\", n_data)"
   ]
  },
  {
   "cell_type": "code",
   "execution_count": 106,
   "metadata": {},
   "outputs": [
    {
     "name": "stdout",
     "output_type": "stream",
     "text": [
      "The empirical difference of the mean between w and b callbacks: 0.03203285485506058\n"
     ]
    }
   ],
   "source": [
    "mean_b_callbacks = np.mean(data.call[data.race == \"b\"])\n",
    "mean_w_callbacks = np.mean(data.call[data.race == \"w\"])\n",
    "\n",
    "empirical_diff_means = abs(mean_b_callbacks - mean_w_callbacks)\n",
    "print(\"The empirical difference of the mean between w and b callbacks:\", empirical_diff_means)"
   ]
  },
  {
   "cell_type": "markdown",
   "metadata": {},
   "source": [
    "Note: The empirical difference of the mean between w and b callbacks can also be interpretted as the difference in proportion of callbacks."
   ]
  },
  {
   "cell_type": "markdown",
   "metadata": {},
   "source": [
    "## First, start with bootstrapping for p-value hypothesis testing"
   ]
  },
  {
   "cell_type": "code",
   "execution_count": 37,
   "metadata": {},
   "outputs": [],
   "source": [
    "#Start bootstrapping approach to statistical evaluation\n",
    "##Replicate of resampled data array function\n",
    "\n",
    "def reps(data, function): \n",
    "    \"\"\"Return replicate of a resampled data array.\"\"\"\n",
    "    \n",
    "    #Create resampled array and return stat:\n",
    "    return function(np.random.choice(data, size=len(data)))\n",
    "\n",
    "#Bootstrap replicates function\n",
    "\n",
    "def draw_bsreps(data, func, size=1):\n",
    "    \"\"\"Draw bootstrap replicates.\"\"\"\n",
    "    \n",
    "    #Initialize array of replicates\n",
    "    bs_replicates = np.empty(size)\n",
    "    \n",
    "    #Generate replicates\n",
    "    for i in range(size): \n",
    "        bs_replicates[i] = reps(data, func)\n",
    "        \n",
    "    return bs_replicates"
   ]
  },
  {
   "cell_type": "code",
   "execution_count": 38,
   "metadata": {},
   "outputs": [
    {
     "name": "stdout",
     "output_type": "stream",
     "text": [
      "The p-value of the replicates is: 0.0\n"
     ]
    }
   ],
   "source": [
    "#Seed the random number generator\n",
    "np.random.seed(25)\n",
    "\n",
    "#Generate shifted arrays - we are doing a two-sided test\n",
    "b_shift = b_callbacks - mean_b_callbacks + mean_callbacks\n",
    "w_shift = w_callbacks - mean_w_callbacks + mean_callbacks\n",
    "\n",
    "#Generate 10,000 bootstrap replicates from our shift arrays\n",
    "bsreps_b = draw_bsreps(b_shift, np.mean, 10000)\n",
    "bsreps_w = draw_bsreps(w_shift, np.mean, 10000)\n",
    "\n",
    "#Compute the difference of means of the replicates\n",
    "bsreps_diff_means = bsreps_b - bsreps_w\n",
    "\n",
    "#Compute p-value\n",
    "p = np.sum(bsreps_diff_means <= empirical_diff_means) / len(bsreps_diff_means)\n",
    "print(\"The p-value of the replicates is:\", p)"
   ]
  },
  {
   "cell_type": "markdown",
   "metadata": {},
   "source": [
    "Note: This small p-value gives us strong evidence against the null hypothesis (there is a higher than 0.05 chance of observing proof in favour of the alternative hypothesis). Therefore, we cannot claim that the mean callback rate is the same for the black names and the white names. "
   ]
  },
  {
   "cell_type": "markdown",
   "metadata": {},
   "source": [
    "## Second, try with frequentist statistics"
   ]
  },
  {
   "cell_type": "code",
   "execution_count": 46,
   "metadata": {},
   "outputs": [
    {
     "name": "stdout",
     "output_type": "stream",
     "text": [
      "1.6448536269514722\n"
     ]
    }
   ],
   "source": [
    "from scipy.stats import norm\n",
    "\n",
    "#Start by computing margin of error and confidence interval\n",
    "\n",
    "z_critic = norm.ppf(0.95)\n",
    "print(z_critic)"
   ]
  },
  {
   "cell_type": "code",
   "execution_count": 86,
   "metadata": {},
   "outputs": [
    {
     "name": "stdout",
     "output_type": "stream",
     "text": [
      "The proportion of all white sounding names is: 0.5\n",
      "The proportion of all black sounding names is: 0.5\n",
      "The proportion of black sounding names with callback is: 0.06447638603696099\n",
      "The proportion of black sound names with no callback is: 0.9355236139630391\n",
      "The proportion of white sounding names with callback is: 0.09650924024640657\n",
      "The proportion of white sounding names with no callback is: 0.9034907597535934\n"
     ]
    }
   ],
   "source": [
    "#To calculate the standard error, we need to compute probabilities of the Bernoulli distribution\n",
    "\n",
    "#b_all\n",
    "#w_all\n",
    "\n",
    "#call_all\n",
    "#nocall_all\n",
    "\n",
    "#b_callbacks \n",
    "#b_nocallbacks\n",
    "\n",
    "#w_callbacks\n",
    "#w_nocallbacks \n",
    "\n",
    "w_prop_all = (w_all) / len(data)\n",
    "b_prop_all = (b_all) / len(data)\n",
    "\n",
    "b_prop_call = (b_callbacks) / (b_all)\n",
    "b_prop_nocall = (b_nocallbacks) / (b_all)\n",
    "\n",
    "w_prop_call = (w_callbacks) / (w_all)\n",
    "w_prop_nocall = (w_nocallbacks) / (w_all)\n",
    "\n",
    "\n",
    "print(\"The proportion of all white sounding names is:\", w_prop_all)\n",
    "print(\"The proportion of all black sounding names is:\", b_prop_all)\n",
    "\n",
    "print(\"The proportion of black sounding names with callback is:\", b_prop_call)\n",
    "print(\"The proportion of black sound names with no callback is:\", b_prop_nocall)\n",
    "\n",
    "print(\"The proportion of white sounding names with callback is:\", w_prop_call)\n",
    "print(\"The proportion of white sounding names with no callback is:\", w_prop_nocall)"
   ]
  },
  {
   "cell_type": "code",
   "execution_count": 88,
   "metadata": {},
   "outputs": [
    {
     "name": "stdout",
     "output_type": "stream",
     "text": [
      "The standard error for white names is: 0.001955777357746891\n",
      "The standard error for black names is: 0.001306625724111752\n",
      "The standard error is: 0.0023520918043277925\n"
     ]
    }
   ],
   "source": [
    "#Compute the standard error of each b and w\n",
    "w_std_error = np.sqrt((w_prop_call * (1-w_prop_nocall))/(w_all))\n",
    "b_std_error = np.sqrt((b_prop_call * (1-b_prop_nocall))/(b_all))\n",
    "\n",
    "std_error = np.sqrt((w_prop_call * (1-w_prop_nocall))/(w_all) + (b_prop_call * (1-b_prop_nocall))/(b_all))\n",
    "\n",
    "print(\"The standard error for white names is:\", w_std_error)\n",
    "print(\"The standard error for black names is:\", b_std_error)\n",
    "print(\"The standard error is:\", std_error)"
   ]
  },
  {
   "cell_type": "code",
   "execution_count": 112,
   "metadata": {},
   "outputs": [
    {
     "name": "stdout",
     "output_type": "stream",
     "text": [
      "The z critical value is 1.959963984540054\n",
      "The margin of error is 0.0046100152248143055\n"
     ]
    }
   ],
   "source": [
    "#Finally, compute the margine of error, confidence interval and p-value\n",
    "\n",
    "##Calcaulte the z critical value\n",
    "z_critic = norm.ppf(0.975)\n",
    "print(\"The z critical value is\", z_critic)\n",
    "\n",
    "##Calculate the moe\n",
    "moe = z_critic * std_error\n",
    "print(\"The margin of error is\", moe)"
   ]
  },
  {
   "cell_type": "markdown",
   "metadata": {},
   "source": [
    "Note: This means that the difference in the proportion of names receiving call backs is the difference of the means +/- the margin of error."
   ]
  },
  {
   "cell_type": "code",
   "execution_count": 113,
   "metadata": {},
   "outputs": [
    {
     "name": "stdout",
     "output_type": "stream",
     "text": [
      "The empirical difference of the mean between the two groups receiving callbacks is: 0.03203285485506058\n",
      "With +/- 0.0046100152248143055\n",
      "Which equals 0.027422839630246273 and 0.036642870079874885\n"
     ]
    }
   ],
   "source": [
    "print(\"The empirical difference of the mean between the two groups receiving callbacks is:\", empirical_diff_means)\n",
    "print(\"With +/-\", moe)\n",
    "print(\"Which equals\", empirical_diff_means - moe, \"and\", empirical_diff_means + moe)"
   ]
  },
  {
   "cell_type": "code",
   "execution_count": 114,
   "metadata": {},
   "outputs": [
    {
     "name": "stdout",
     "output_type": "stream",
     "text": [
      "With a 95% confidence interval, the range is: 0.027422839630246273 and 0.036642870079874885\n"
     ]
    }
   ],
   "source": [
    "#Computing the confidence interval another way\n",
    "[CIU, CIL] = z_critic * std_error * np.array([-1,1])\n",
    "CIUpper = empirical_diff_means + CIU\n",
    "CILower = empirical_diff_means + CIL\n",
    "\n",
    "print(\"With a 95% confidence interval, the range is:\", CIUpper, \"and\", CILower)"
   ]
  },
  {
   "cell_type": "code",
   "execution_count": 115,
   "metadata": {},
   "outputs": [
    {
     "name": "stdout",
     "output_type": "stream",
     "text": [
      "4.108412152434346 3.983886837585077e-05\n"
     ]
    }
   ],
   "source": [
    "#Computing the z-statistic with proportions\n",
    "import statsmodels.stats.proportion as props\n",
    "\n",
    "z_test, p = props.proportions_ztest([w_callbacks, b_callbacks], [w_all, b_all])\n",
    "print(z_test, p)"
   ]
  },
  {
   "cell_type": "markdown",
   "metadata": {},
   "source": [
    "Note: The z-statistic of 4.11 from a proportional test and small p-value also indicate that we should reject the null hypothesis that race has no effect on callbacks. "
   ]
  },
  {
   "cell_type": "markdown",
   "metadata": {},
   "source": [
    "### Conclusion: Both boostrapping a p-value hypothesis test and computing frequentist statistics indicate that we should reject the null hypothesis and that race has an effect on callbacks."
   ]
  },
  {
   "cell_type": "markdown",
   "metadata": {},
   "source": [
    "# Question 4: Write a story.\n",
    "* Describing the statistical significance in the context or the original problem."
   ]
  },
  {
   "cell_type": "markdown",
   "metadata": {},
   "source": [
    "The original problem asked us to evaluate whether or not race, as identified by either a \"black\" name or a \"white\" name (which were randomly distributed), has a statistically significant impact on resume callback rate. This analysis proposed a null hypothesis that race does not have an effect and an alternative hypothesis that race does have an effect. The analysis used both p-value bootstrapping and frequentist statistical methods to evaluate the data provided. The analysis rejects the null hypothesis with evidence from both methods, as Z is far outside the critical value of +/- 1.96 at 4.11. Both tests also found a low p-value below 0.05. We are 95% confident that black sounding names are less likely to be called back and conclude that black sounding names are more than 4 standard deviations from the mean, compared to white sounding names. "
   ]
  },
  {
   "cell_type": "markdown",
   "metadata": {},
   "source": [
    "# Question 5: Does your analysis mean that race/name is the most important factor in callback success? \n",
    "* Why or why not? If not, how would you amend your analysis?"
   ]
  },
  {
   "cell_type": "markdown",
   "metadata": {},
   "source": [
    "The analysis does not conclude findings on other variables in the data. The analysis would have to include those variables and compare the effects on callback rate and compared to the effect of race/name. This could include a correlation analysis or logistical regression methods."
   ]
  },
  {
   "cell_type": "code",
   "execution_count": 117,
   "metadata": {},
   "outputs": [
    {
     "data": {
      "text/plain": [
       "Index(['id', 'ad', 'education', 'ofjobs', 'yearsexp', 'honors', 'volunteer',\n",
       "       'military', 'empholes', 'occupspecific', 'occupbroad', 'workinschool',\n",
       "       'email', 'computerskills', 'specialskills', 'firstname', 'sex', 'race',\n",
       "       'h', 'l', 'call', 'city', 'kind', 'adid', 'fracblack', 'fracwhite',\n",
       "       'lmedhhinc', 'fracdropout', 'fraccolp', 'linc', 'col', 'expminreq',\n",
       "       'schoolreq', 'eoe', 'parent_sales', 'parent_emp', 'branch_sales',\n",
       "       'branch_emp', 'fed', 'fracblack_empzip', 'fracwhite_empzip',\n",
       "       'lmedhhinc_empzip', 'fracdropout_empzip', 'fraccolp_empzip',\n",
       "       'linc_empzip', 'manager', 'supervisor', 'secretary', 'offsupport',\n",
       "       'salesrep', 'retailsales', 'req', 'expreq', 'comreq', 'educreq',\n",
       "       'compreq', 'orgreq', 'manuf', 'transcom', 'bankreal', 'trade',\n",
       "       'busservice', 'othservice', 'missind', 'ownership'],\n",
       "      dtype='object')"
      ]
     },
     "execution_count": 117,
     "metadata": {},
     "output_type": "execute_result"
    }
   ],
   "source": [
    "#Let's take a look at the other variables\n",
    "data.columns"
   ]
  },
  {
   "cell_type": "markdown",
   "metadata": {},
   "source": [
    "Note: Callback rate would likely be influenced by a few of these: computerskills, specialskills, city, etc. as they are likely to indicate match potential for a job. Additionally, all humans are susceptible to bias and error in judgment. Likely variables that could bias callback rate could include sex, as well."
   ]
  },
  {
   "cell_type": "code",
   "execution_count": 129,
   "metadata": {},
   "outputs": [
    {
     "data": {
      "image/png": "[encoded data removed]",
      "text/plain": [
       "<Figure size 404.125x360 with 1 Axes>"
      ]
     },
     "metadata": {
      "needs_background": "light"
     },
     "output_type": "display_data"
    }
   ],
   "source": [
    "import matplotlib.pyplot as plt\n",
    "import seaborn as sns\n",
    "\n",
    "#Let's quickly get a glimpse to see if sex could have an effect\n",
    "fig = sns.catplot(x='call',hue='race', data=data, kind='count')\n",
    "\n",
    "fig._legend.set_title('SEX')\n",
    "for text, label in zip(\n",
    "    fig._legend.texts, \n",
    "    ['Female', 'Male']\n",
    "): text.set_text(label)\n",
    "fig.set_xticklabels(['No Callback','Callback Received'])\n",
    "fig = plt.xlabel('')\n",
    "fig = plt.ylabel('Frequency')\n",
    "fig = plt.title('Callback Rate by Sex')"
   ]
  },
  {
   "cell_type": "markdown",
   "metadata": {},
   "source": [
    "Note: This just shows that evaluating race in its effect on callback rate should be put in context / compared to other factors in the data."
   ]
  }
 ],
 "metadata": {
  "kernelspec": {
   "display_name": "Python 3",
   "language": "python",
   "name": "python3"
  },
  "language_info": {
   "codemirror_mode": {
    "name": "ipython",
    "version": 3
   },
   "file_extension": ".py",
   "mimetype": "text/x-python",
   "name": "python",
   "nbconvert_exporter": "python",
   "pygments_lexer": "ipython3",
   "version": "3.6.6"
  }
 },
 "nbformat": 4,
 "nbformat_minor": 1
}
