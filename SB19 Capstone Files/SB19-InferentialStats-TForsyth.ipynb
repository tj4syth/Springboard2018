{
 "cells": [
  {
   "cell_type": "markdown",
   "metadata": {},
   "source": [
    "# Springboard 2019 - Capstone\n",
    "\n",
    "## Exploratory Data Analysis (EDA)\n",
    "\n",
    "\n",
    "### Background\n",
    "The following EDA steps were conducted to explore online professional profiles (OPP) information on recent graduates in Canada and the U.S. to uncover patterns and trends as part of my capstone project for the Springboard Intermediate Python for Data Science course. The data was pulled from a private data vendor and includes data on employers, career paths, start dates, education (majors, degrees, etc.) and skills of youth / recent graduates. The final project will investigate skill cluster themes in relation to students' education and career paths.\n",
    "\n",
    "* Primary project question: How are skills showing up in talent supply in the U.S. and Canada? \n",
    "\n",
    "Guiding Assignment Questions: \n",
    "1. Are there variables that are particularly significant in terms of explaining the answer to your project question?\n",
    "2. Are there strong correlations between pairs of independent variables, or between an independent and a dependent variable? \n",
    "\n",
    "### Code"
   ]
  },
  {
   "cell_type": "code",
   "execution_count": 2,
   "metadata": {},
   "outputs": [
    {
     "data": {
      "text/html": [
       "<div>\n",
       "<style scoped>\n",
       "    .dataframe tbody tr th:only-of-type {\n",
       "        vertical-align: middle;\n",
       "    }\n",
       "\n",
       "    .dataframe tbody tr th {\n",
       "        vertical-align: top;\n",
       "    }\n",
       "\n",
       "    .dataframe thead th {\n",
       "        text-align: right;\n",
       "    }\n",
       "</style>\n",
       "<table border=\"1\" class=\"dataframe\">\n",
       "  <thead>\n",
       "    <tr style=\"text-align: right;\">\n",
       "      <th></th>\n",
       "      <th>id</th>\n",
       "      <th>country</th>\n",
       "      <th>job_1</th>\n",
       "      <th>job_2</th>\n",
       "      <th>job_3</th>\n",
       "      <th>job_4</th>\n",
       "      <th>job_5</th>\n",
       "      <th>job_6</th>\n",
       "      <th>employer_1</th>\n",
       "      <th>employer_2</th>\n",
       "      <th>...</th>\n",
       "      <th>degree_2_type</th>\n",
       "      <th>degree_3_type</th>\n",
       "      <th>degree_4_type</th>\n",
       "      <th>job_count</th>\n",
       "      <th>degree_count</th>\n",
       "      <th>time_job_2</th>\n",
       "      <th>time_job_3</th>\n",
       "      <th>time_job_4</th>\n",
       "      <th>time_job_1_4</th>\n",
       "      <th>skill_list</th>\n",
       "    </tr>\n",
       "  </thead>\n",
       "  <tbody>\n",
       "    <tr>\n",
       "      <th>0</th>\n",
       "      <td>UvVMY-N9uT9i6wdg8nX-sQ_0000</td>\n",
       "      <td>US</td>\n",
       "      <td>adjunct faculty</td>\n",
       "      <td>chemist</td>\n",
       "      <td>NaN</td>\n",
       "      <td>NaN</td>\n",
       "      <td>NaN</td>\n",
       "      <td>NaN</td>\n",
       "      <td>dixie state university</td>\n",
       "      <td>washington county water conservancy district</td>\n",
       "      <td>...</td>\n",
       "      <td>NaN</td>\n",
       "      <td>NaN</td>\n",
       "      <td>NaN</td>\n",
       "      <td>2</td>\n",
       "      <td>1</td>\n",
       "      <td>1.0</td>\n",
       "      <td>NaN</td>\n",
       "      <td>NaN</td>\n",
       "      <td>NaN</td>\n",
       "      <td>microsoft office,microsoft word,powerpoint,res...</td>\n",
       "    </tr>\n",
       "    <tr>\n",
       "      <th>1</th>\n",
       "      <td>1fFD-E25MpwW8uvA0gwOWw_0000</td>\n",
       "      <td>US</td>\n",
       "      <td>NaN</td>\n",
       "      <td>NaN</td>\n",
       "      <td>NaN</td>\n",
       "      <td>NaN</td>\n",
       "      <td>NaN</td>\n",
       "      <td>NaN</td>\n",
       "      <td>NaN</td>\n",
       "      <td>NaN</td>\n",
       "      <td>...</td>\n",
       "      <td>Ot</td>\n",
       "      <td>NaN</td>\n",
       "      <td>NaN</td>\n",
       "      <td>0</td>\n",
       "      <td>2</td>\n",
       "      <td>NaN</td>\n",
       "      <td>NaN</td>\n",
       "      <td>NaN</td>\n",
       "      <td>NaN</td>\n",
       "      <td>household,writing,reflection,transferring,admi...</td>\n",
       "    </tr>\n",
       "    <tr>\n",
       "      <th>2</th>\n",
       "      <td>wRdXL4mwhnUGdwg7eVAFYQ_0000</td>\n",
       "      <td>US</td>\n",
       "      <td>marketing associate</td>\n",
       "      <td>product manager</td>\n",
       "      <td>NaN</td>\n",
       "      <td>NaN</td>\n",
       "      <td>NaN</td>\n",
       "      <td>NaN</td>\n",
       "      <td>new york life insurance company</td>\n",
       "      <td>american express</td>\n",
       "      <td>...</td>\n",
       "      <td>NaN</td>\n",
       "      <td>NaN</td>\n",
       "      <td>NaN</td>\n",
       "      <td>2</td>\n",
       "      <td>1</td>\n",
       "      <td>5.0</td>\n",
       "      <td>NaN</td>\n",
       "      <td>NaN</td>\n",
       "      <td>NaN</td>\n",
       "      <td>facebook,management,powerpoint,social media,ma...</td>\n",
       "    </tr>\n",
       "    <tr>\n",
       "      <th>3</th>\n",
       "      <td>gMzn1TIgTl-etAKXbJipZQ_0000</td>\n",
       "      <td>US</td>\n",
       "      <td>summer intern</td>\n",
       "      <td>internship</td>\n",
       "      <td>software engineer</td>\n",
       "      <td>NaN</td>\n",
       "      <td>NaN</td>\n",
       "      <td>NaN</td>\n",
       "      <td>itri</td>\n",
       "      <td>itri</td>\n",
       "      <td>...</td>\n",
       "      <td>ma</td>\n",
       "      <td>NaN</td>\n",
       "      <td>NaN</td>\n",
       "      <td>3</td>\n",
       "      <td>2</td>\n",
       "      <td>2.0</td>\n",
       "      <td>2.0</td>\n",
       "      <td>NaN</td>\n",
       "      <td>NaN</td>\n",
       "      <td>matlab,python,objective c,r,machine learning,n...</td>\n",
       "    </tr>\n",
       "    <tr>\n",
       "      <th>4</th>\n",
       "      <td>IrpjwrXdzNecrwwzdTH1-w_0000</td>\n",
       "      <td>US</td>\n",
       "      <td>maintance</td>\n",
       "      <td>mechanic</td>\n",
       "      <td>mechanic</td>\n",
       "      <td>maintenance worker</td>\n",
       "      <td>NaN</td>\n",
       "      <td>NaN</td>\n",
       "      <td>toyotaid</td>\n",
       "      <td>rosnett trucking</td>\n",
       "      <td>...</td>\n",
       "      <td>se</td>\n",
       "      <td>Ot</td>\n",
       "      <td>NaN</td>\n",
       "      <td>4</td>\n",
       "      <td>3</td>\n",
       "      <td>1.0</td>\n",
       "      <td>4.0</td>\n",
       "      <td>1.0</td>\n",
       "      <td>6.0</td>\n",
       "      <td>hoists</td>\n",
       "    </tr>\n",
       "  </tbody>\n",
       "</table>\n",
       "<p>5 rows × 53 columns</p>\n",
       "</div>"
      ],
      "text/plain": [
       "                            id country                job_1            job_2  \\\n",
       "0  UvVMY-N9uT9i6wdg8nX-sQ_0000      US      adjunct faculty          chemist   \n",
       "1  1fFD-E25MpwW8uvA0gwOWw_0000      US                  NaN              NaN   \n",
       "2  wRdXL4mwhnUGdwg7eVAFYQ_0000      US  marketing associate  product manager   \n",
       "3  gMzn1TIgTl-etAKXbJipZQ_0000      US        summer intern       internship   \n",
       "4  IrpjwrXdzNecrwwzdTH1-w_0000      US            maintance         mechanic   \n",
       "\n",
       "               job_3               job_4 job_5 job_6  \\\n",
       "0                NaN                 NaN   NaN   NaN   \n",
       "1                NaN                 NaN   NaN   NaN   \n",
       "2                NaN                 NaN   NaN   NaN   \n",
       "3  software engineer                 NaN   NaN   NaN   \n",
       "4           mechanic  maintenance worker   NaN   NaN   \n",
       "\n",
       "                        employer_1  \\\n",
       "0           dixie state university   \n",
       "1                              NaN   \n",
       "2  new york life insurance company   \n",
       "3                             itri   \n",
       "4                         toyotaid   \n",
       "\n",
       "                                     employer_2  \\\n",
       "0  washington county water conservancy district   \n",
       "1                                           NaN   \n",
       "2                              american express   \n",
       "3                                          itri   \n",
       "4                              rosnett trucking   \n",
       "\n",
       "                         ...                         degree_2_type  \\\n",
       "0                        ...                                   NaN   \n",
       "1                        ...                                    Ot   \n",
       "2                        ...                                   NaN   \n",
       "3                        ...                                    ma   \n",
       "4                        ...                                    se   \n",
       "\n",
       "  degree_3_type degree_4_type job_count  degree_count  time_job_2  time_job_3  \\\n",
       "0           NaN           NaN         2             1         1.0         NaN   \n",
       "1           NaN           NaN         0             2         NaN         NaN   \n",
       "2           NaN           NaN         2             1         5.0         NaN   \n",
       "3           NaN           NaN         3             2         2.0         2.0   \n",
       "4            Ot           NaN         4             3         1.0         4.0   \n",
       "\n",
       "   time_job_4  time_job_1_4                                         skill_list  \n",
       "0         NaN           NaN  microsoft office,microsoft word,powerpoint,res...  \n",
       "1         NaN           NaN  household,writing,reflection,transferring,admi...  \n",
       "2         NaN           NaN  facebook,management,powerpoint,social media,ma...  \n",
       "3         NaN           NaN  matlab,python,objective c,r,machine learning,n...  \n",
       "4         1.0           6.0                                             hoists  \n",
       "\n",
       "[5 rows x 53 columns]"
      ]
     },
     "execution_count": 2,
     "metadata": {},
     "output_type": "execute_result"
    }
   ],
   "source": [
    "import pandas as pd\n",
    "import numpy as np\n",
    "import seaborn as sns\n",
    "import matplotlib\n",
    "from matplotlib import pyplot as plt\n",
    "\n",
    "#read in data file\n",
    "df = pd.read_csv('SB19-Can-US-Main.csv')\n",
    "df.drop(columns=['Unnamed: 0'], inplace=True)\n",
    "df.head()"
   ]
  },
  {
   "cell_type": "code",
   "execution_count": 3,
   "metadata": {},
   "outputs": [
    {
     "name": "stdout",
     "output_type": "stream",
     "text": [
      "<class 'pandas.core.frame.DataFrame'>\n",
      "RangeIndex: 753315 entries, 0 to 753314\n",
      "Data columns (total 53 columns):\n",
      "id                  753315 non-null object\n",
      "country             753315 non-null object\n",
      "job_1               600101 non-null object\n",
      "job_2               513927 non-null object\n",
      "job_3               430154 non-null object\n",
      "job_4               338815 non-null object\n",
      "job_5               250366 non-null object\n",
      "job_6               174365 non-null object\n",
      "employer_1          599972 non-null object\n",
      "employer_2          517602 non-null object\n",
      "employer_3          436531 non-null object\n",
      "employer_4          349101 non-null object\n",
      "employer_5          263586 non-null object\n",
      "employer_6          188717 non-null object\n",
      "job_start_year_1    602643 non-null float64\n",
      "job_start_year_2    515466 non-null float64\n",
      "job_start_year_3    431095 non-null float64\n",
      "job_start_year_4    339270 non-null float64\n",
      "job_start_year_5    250514 non-null float64\n",
      "job_start_year_6    174248 non-null float64\n",
      "industry_list_1     617216 non-null object\n",
      "industry_list_2     166907 non-null object\n",
      "industry_list_3     28769 non-null object\n",
      "industry_list_4     3653 non-null object\n",
      "major_1             650670 non-null object\n",
      "major_2             419501 non-null object\n",
      "major_3             148980 non-null object\n",
      "major_4             47842 non-null object\n",
      "degree_1            753315 non-null object\n",
      "degree_2            419501 non-null object\n",
      "degree_3            148980 non-null object\n",
      "degree_4            47842 non-null object\n",
      "grad_1              753315 non-null int64\n",
      "grad_2              419501 non-null float64\n",
      "grad_3              148980 non-null float64\n",
      "grad_4              47842 non-null float64\n",
      "grad_5              14908 non-null float64\n",
      "grad_6              4833 non-null float64\n",
      "major_1_type        649010 non-null object\n",
      "major_2_type        418827 non-null object\n",
      "major_3_type        148813 non-null object\n",
      "major_4_type        47798 non-null object\n",
      "degree_1_type       753315 non-null object\n",
      "degree_2_type       419501 non-null object\n",
      "degree_3_type       148980 non-null object\n",
      "degree_4_type       47842 non-null object\n",
      "job_count           753315 non-null int64\n",
      "degree_count        753315 non-null int64\n",
      "time_job_2          515466 non-null float64\n",
      "time_job_3          431095 non-null float64\n",
      "time_job_4          339270 non-null float64\n",
      "time_job_1_4        339270 non-null float64\n",
      "skill_list          719023 non-null object\n",
      "dtypes: float64(15), int64(3), object(35)\n",
      "memory usage: 304.6+ MB\n"
     ]
    }
   ],
   "source": [
    "df.info()"
   ]
  },
  {
   "cell_type": "code",
   "execution_count": 45,
   "metadata": {},
   "outputs": [
    {
     "data": {
      "text/html": [
       "<div>\n",
       "<style scoped>\n",
       "    .dataframe tbody tr th:only-of-type {\n",
       "        vertical-align: middle;\n",
       "    }\n",
       "\n",
       "    .dataframe tbody tr th {\n",
       "        vertical-align: top;\n",
       "    }\n",
       "\n",
       "    .dataframe thead th {\n",
       "        text-align: right;\n",
       "    }\n",
       "</style>\n",
       "<table border=\"1\" class=\"dataframe\">\n",
       "  <thead>\n",
       "    <tr style=\"text-align: right;\">\n",
       "      <th></th>\n",
       "      <th>id</th>\n",
       "      <th>country</th>\n",
       "      <th>job_1</th>\n",
       "      <th>job_2</th>\n",
       "      <th>job_3</th>\n",
       "      <th>job_4</th>\n",
       "      <th>job_5</th>\n",
       "      <th>job_6</th>\n",
       "      <th>employer_1</th>\n",
       "      <th>employer_2</th>\n",
       "      <th>...</th>\n",
       "      <th>degree_count</th>\n",
       "      <th>time_job_2</th>\n",
       "      <th>time_job_3</th>\n",
       "      <th>time_job_4</th>\n",
       "      <th>time_job_1_4</th>\n",
       "      <th>skill_list</th>\n",
       "      <th>ba</th>\n",
       "      <th>ma</th>\n",
       "      <th>do</th>\n",
       "      <th>Ot</th>\n",
       "    </tr>\n",
       "  </thead>\n",
       "  <tbody>\n",
       "    <tr>\n",
       "      <th>0</th>\n",
       "      <td>UvVMY-N9uT9i6wdg8nX-sQ_0000</td>\n",
       "      <td>US</td>\n",
       "      <td>adjunct faculty</td>\n",
       "      <td>chemist</td>\n",
       "      <td>NaN</td>\n",
       "      <td>NaN</td>\n",
       "      <td>NaN</td>\n",
       "      <td>NaN</td>\n",
       "      <td>dixie state university</td>\n",
       "      <td>washington county water conservancy district</td>\n",
       "      <td>...</td>\n",
       "      <td>1</td>\n",
       "      <td>1.0</td>\n",
       "      <td>NaN</td>\n",
       "      <td>NaN</td>\n",
       "      <td>NaN</td>\n",
       "      <td>microsoft office,microsoft word,powerpoint,res...</td>\n",
       "      <td>1</td>\n",
       "      <td>0</td>\n",
       "      <td>0</td>\n",
       "      <td>0</td>\n",
       "    </tr>\n",
       "    <tr>\n",
       "      <th>1</th>\n",
       "      <td>1fFD-E25MpwW8uvA0gwOWw_0000</td>\n",
       "      <td>US</td>\n",
       "      <td>NaN</td>\n",
       "      <td>NaN</td>\n",
       "      <td>NaN</td>\n",
       "      <td>NaN</td>\n",
       "      <td>NaN</td>\n",
       "      <td>NaN</td>\n",
       "      <td>NaN</td>\n",
       "      <td>NaN</td>\n",
       "      <td>...</td>\n",
       "      <td>2</td>\n",
       "      <td>NaN</td>\n",
       "      <td>NaN</td>\n",
       "      <td>NaN</td>\n",
       "      <td>NaN</td>\n",
       "      <td>household,writing,reflection,transferring,admi...</td>\n",
       "      <td>0</td>\n",
       "      <td>0</td>\n",
       "      <td>0</td>\n",
       "      <td>1</td>\n",
       "    </tr>\n",
       "    <tr>\n",
       "      <th>2</th>\n",
       "      <td>wRdXL4mwhnUGdwg7eVAFYQ_0000</td>\n",
       "      <td>US</td>\n",
       "      <td>marketing associate</td>\n",
       "      <td>product manager</td>\n",
       "      <td>NaN</td>\n",
       "      <td>NaN</td>\n",
       "      <td>NaN</td>\n",
       "      <td>NaN</td>\n",
       "      <td>new york life insurance company</td>\n",
       "      <td>american express</td>\n",
       "      <td>...</td>\n",
       "      <td>1</td>\n",
       "      <td>5.0</td>\n",
       "      <td>NaN</td>\n",
       "      <td>NaN</td>\n",
       "      <td>NaN</td>\n",
       "      <td>facebook,management,powerpoint,social media,ma...</td>\n",
       "      <td>1</td>\n",
       "      <td>0</td>\n",
       "      <td>0</td>\n",
       "      <td>0</td>\n",
       "    </tr>\n",
       "    <tr>\n",
       "      <th>3</th>\n",
       "      <td>gMzn1TIgTl-etAKXbJipZQ_0000</td>\n",
       "      <td>US</td>\n",
       "      <td>summer intern</td>\n",
       "      <td>internship</td>\n",
       "      <td>software engineer</td>\n",
       "      <td>NaN</td>\n",
       "      <td>NaN</td>\n",
       "      <td>NaN</td>\n",
       "      <td>itri</td>\n",
       "      <td>itri</td>\n",
       "      <td>...</td>\n",
       "      <td>2</td>\n",
       "      <td>2.0</td>\n",
       "      <td>2.0</td>\n",
       "      <td>NaN</td>\n",
       "      <td>NaN</td>\n",
       "      <td>matlab,python,objective c,r,machine learning,n...</td>\n",
       "      <td>1</td>\n",
       "      <td>1</td>\n",
       "      <td>0</td>\n",
       "      <td>0</td>\n",
       "    </tr>\n",
       "    <tr>\n",
       "      <th>4</th>\n",
       "      <td>IrpjwrXdzNecrwwzdTH1-w_0000</td>\n",
       "      <td>US</td>\n",
       "      <td>maintance</td>\n",
       "      <td>mechanic</td>\n",
       "      <td>mechanic</td>\n",
       "      <td>maintenance worker</td>\n",
       "      <td>NaN</td>\n",
       "      <td>NaN</td>\n",
       "      <td>toyotaid</td>\n",
       "      <td>rosnett trucking</td>\n",
       "      <td>...</td>\n",
       "      <td>3</td>\n",
       "      <td>1.0</td>\n",
       "      <td>4.0</td>\n",
       "      <td>1.0</td>\n",
       "      <td>6.0</td>\n",
       "      <td>hoists</td>\n",
       "      <td>0</td>\n",
       "      <td>0</td>\n",
       "      <td>0</td>\n",
       "      <td>1</td>\n",
       "    </tr>\n",
       "  </tbody>\n",
       "</table>\n",
       "<p>5 rows × 57 columns</p>\n",
       "</div>"
      ],
      "text/plain": [
       "                            id country                job_1            job_2  \\\n",
       "0  UvVMY-N9uT9i6wdg8nX-sQ_0000      US      adjunct faculty          chemist   \n",
       "1  1fFD-E25MpwW8uvA0gwOWw_0000      US                  NaN              NaN   \n",
       "2  wRdXL4mwhnUGdwg7eVAFYQ_0000      US  marketing associate  product manager   \n",
       "3  gMzn1TIgTl-etAKXbJipZQ_0000      US        summer intern       internship   \n",
       "4  IrpjwrXdzNecrwwzdTH1-w_0000      US            maintance         mechanic   \n",
       "\n",
       "               job_3               job_4 job_5 job_6  \\\n",
       "0                NaN                 NaN   NaN   NaN   \n",
       "1                NaN                 NaN   NaN   NaN   \n",
       "2                NaN                 NaN   NaN   NaN   \n",
       "3  software engineer                 NaN   NaN   NaN   \n",
       "4           mechanic  maintenance worker   NaN   NaN   \n",
       "\n",
       "                        employer_1  \\\n",
       "0           dixie state university   \n",
       "1                              NaN   \n",
       "2  new york life insurance company   \n",
       "3                             itri   \n",
       "4                         toyotaid   \n",
       "\n",
       "                                     employer_2 ... degree_count time_job_2  \\\n",
       "0  washington county water conservancy district ...            1        1.0   \n",
       "1                                           NaN ...            2        NaN   \n",
       "2                              american express ...            1        5.0   \n",
       "3                                          itri ...            2        2.0   \n",
       "4                              rosnett trucking ...            3        1.0   \n",
       "\n",
       "  time_job_3 time_job_4  time_job_1_4  \\\n",
       "0        NaN        NaN           NaN   \n",
       "1        NaN        NaN           NaN   \n",
       "2        NaN        NaN           NaN   \n",
       "3        2.0        NaN           NaN   \n",
       "4        4.0        1.0           6.0   \n",
       "\n",
       "                                          skill_list  ba  ma  do  Ot  \n",
       "0  microsoft office,microsoft word,powerpoint,res...   1   0   0   0  \n",
       "1  household,writing,reflection,transferring,admi...   0   0   0   1  \n",
       "2  facebook,management,powerpoint,social media,ma...   1   0   0   0  \n",
       "3  matlab,python,objective c,r,machine learning,n...   1   1   0   0  \n",
       "4                                             hoists   0   0   0   1  \n",
       "\n",
       "[5 rows x 57 columns]"
      ]
     },
     "execution_count": 45,
     "metadata": {},
     "output_type": "execute_result"
    }
   ],
   "source": [
    "# create columns to indicate level of education experience\n",
    "df['ba'] = np.where((df['degree_1_type'] == 'ba') | (df['degree_2_type'] == 'ba') | (df['degree_3_type'] == 'ba') | (df['degree_4_type'] == 'ba'), \n",
    "       1, 0)\n",
    "df['ma'] = np.where((df['degree_1_type'] == 'ma') | (df['degree_2_type'] == 'ma') | (df['degree_3_type'] == 'ma') | (df['degree_4_type'] == 'ma'), \n",
    "       1, 0)\n",
    "df['do'] = np.where((df['degree_1_type'] == 'do') | (df['degree_2_type'] == 'do') | (df['degree_3_type'] == 'do') | (df['degree_4_type'] == 'do'), \n",
    "       1, 0)\n",
    "df['Ot'] = np.where((df['degree_1_type'] == 'Ot') | (df['degree_2_type'] == 'Ot') | (df['degree_3_type'] == 'Ot') | (df['degree_4_type'] == 'Ot'), \n",
    "       1, 0)\n",
    "\n",
    "df.head()"
   ]
  },
  {
   "cell_type": "code",
   "execution_count": 4,
   "metadata": {},
   "outputs": [
    {
     "data": {
      "text/plain": [
       "count    339270.000000\n",
       "mean          4.535046\n",
       "std           3.229694\n",
       "min           0.000000\n",
       "25%           3.000000\n",
       "50%           4.000000\n",
       "75%           6.000000\n",
       "max         114.000000\n",
       "Name: time_job_1_4, dtype: float64"
      ]
     },
     "execution_count": 4,
     "metadata": {},
     "output_type": "execute_result"
    }
   ],
   "source": [
    "# for EDA, we start with exploring trends in quantitative fields\n",
    "\n",
    "## time between jobs 1 and 4 to quantify work experience\n",
    "df.time_job_1_4.describe()"
   ]
  },
  {
   "cell_type": "code",
   "execution_count": 5,
   "metadata": {},
   "outputs": [
    {
     "data": {
      "text/plain": [
       "count    753315.000000\n",
       "mean       2013.069669\n",
       "std           2.575103\n",
       "min        2008.000000\n",
       "25%        2011.000000\n",
       "50%        2013.000000\n",
       "75%        2015.000000\n",
       "max        2024.000000\n",
       "Name: grad_1, dtype: float64"
      ]
     },
     "execution_count": 5,
     "metadata": {},
     "output_type": "execute_result"
    }
   ],
   "source": [
    "# to simplify this stage of EDA, we'll start with one graduation cohort\n",
    "\n",
    "# look at distribution of graduate years\n",
    "df.grad_1.describe()"
   ]
  },
  {
   "cell_type": "code",
   "execution_count": 46,
   "metadata": {},
   "outputs": [
    {
     "data": {
      "text/plain": [
       "count    52936.000000\n",
       "mean         4.492859\n",
       "std          3.143804\n",
       "min          0.000000\n",
       "25%          3.000000\n",
       "50%          4.000000\n",
       "75%          6.000000\n",
       "max         54.000000\n",
       "Name: time_job_1_4, dtype: float64"
      ]
     },
     "execution_count": 46,
     "metadata": {},
     "output_type": "execute_result"
    }
   ],
   "source": [
    "# select one cohort --> those who completed education in 2013\n",
    "df_2013 = df[df.grad_1 == 2013]\n",
    "# look at distribution of time across 1-4 jobs for those graduating in 2013\n",
    "## here we have a wide range of graduates and work experience\n",
    "df_2013.time_job_1_4.describe()"
   ]
  },
  {
   "cell_type": "code",
   "execution_count": 47,
   "metadata": {},
   "outputs": [
    {
     "data": {
      "text/plain": [
       "ba    60544\n",
       "se    22318\n",
       "Ot    20066\n",
       "as    11475\n",
       "Name: degree_1_type, dtype: int64"
      ]
     },
     "execution_count": 47,
     "metadata": {},
     "output_type": "execute_result"
    }
   ],
   "source": [
    "# what kinds of degrees do they have for first degree\n",
    "df_2013.degree_1_type.value_counts()"
   ]
  },
  {
   "cell_type": "code",
   "execution_count": 49,
   "metadata": {},
   "outputs": [],
   "source": [
    "# differentiate between highschool students and young professionals who graduated in 2013\n",
    "df_2013.head()\n",
    "\n",
    "# highschool students in 2013 ONLY have secondary education in 2013\n",
    "df_2013_youth = df_2013[(df_2013.degree_1_type == 'se') & (df_2013.degree_count == 1)]"
   ]
  },
  {
   "cell_type": "code",
   "execution_count": 50,
   "metadata": {},
   "outputs": [
    {
     "data": {
      "text/plain": [
       "(6863, 57)"
      ]
     },
     "execution_count": 50,
     "metadata": {},
     "output_type": "execute_result"
    }
   ],
   "source": [
    "df_2013_youth.head()\n",
    "df_2013_youth.shape"
   ]
  },
  {
   "cell_type": "code",
   "execution_count": 53,
   "metadata": {},
   "outputs": [
    {
     "data": {
      "text/html": [
       "<div>\n",
       "<style scoped>\n",
       "    .dataframe tbody tr th:only-of-type {\n",
       "        vertical-align: middle;\n",
       "    }\n",
       "\n",
       "    .dataframe tbody tr th {\n",
       "        vertical-align: top;\n",
       "    }\n",
       "\n",
       "    .dataframe thead th {\n",
       "        text-align: right;\n",
       "    }\n",
       "</style>\n",
       "<table border=\"1\" class=\"dataframe\">\n",
       "  <thead>\n",
       "    <tr style=\"text-align: right;\">\n",
       "      <th></th>\n",
       "      <th>id</th>\n",
       "      <th>country</th>\n",
       "      <th>job_1</th>\n",
       "      <th>job_2</th>\n",
       "      <th>job_3</th>\n",
       "      <th>job_4</th>\n",
       "      <th>job_5</th>\n",
       "      <th>job_6</th>\n",
       "      <th>employer_1</th>\n",
       "      <th>employer_2</th>\n",
       "      <th>...</th>\n",
       "      <th>degree_count</th>\n",
       "      <th>time_job_2</th>\n",
       "      <th>time_job_3</th>\n",
       "      <th>time_job_4</th>\n",
       "      <th>time_job_1_4</th>\n",
       "      <th>skill_list</th>\n",
       "      <th>ba</th>\n",
       "      <th>ma</th>\n",
       "      <th>do</th>\n",
       "      <th>Ot</th>\n",
       "    </tr>\n",
       "  </thead>\n",
       "  <tbody>\n",
       "    <tr>\n",
       "      <th>9</th>\n",
       "      <td>FLrGKPbBhoUIWgNzmGwrEg_0000</td>\n",
       "      <td>US</td>\n",
       "      <td>vice president of communication</td>\n",
       "      <td>partner</td>\n",
       "      <td>junior developer</td>\n",
       "      <td>software developer</td>\n",
       "      <td>NaN</td>\n",
       "      <td>NaN</td>\n",
       "      <td>aiesec in the united states</td>\n",
       "      <td>j flores enterprise</td>\n",
       "      <td>...</td>\n",
       "      <td>2</td>\n",
       "      <td>2.0</td>\n",
       "      <td>3.0</td>\n",
       "      <td>1.0</td>\n",
       "      <td>6.0</td>\n",
       "      <td>leadership,powerpoint,social media,digital sur...</td>\n",
       "      <td>1</td>\n",
       "      <td>0</td>\n",
       "      <td>0</td>\n",
       "      <td>1</td>\n",
       "    </tr>\n",
       "    <tr>\n",
       "      <th>22</th>\n",
       "      <td>hoDqOmPeNqjZGpQgTmnCtg_0000</td>\n",
       "      <td>US</td>\n",
       "      <td>server</td>\n",
       "      <td>server</td>\n",
       "      <td>sever/bartender</td>\n",
       "      <td>public announcer/tournament organizer and volu...</td>\n",
       "      <td>dj/ writer / work study</td>\n",
       "      <td>professional communication consultant &amp; manager</td>\n",
       "      <td>wholly guacamole</td>\n",
       "      <td>international house of pancakes</td>\n",
       "      <td>...</td>\n",
       "      <td>2</td>\n",
       "      <td>1.0</td>\n",
       "      <td>2.0</td>\n",
       "      <td>6.0</td>\n",
       "      <td>9.0</td>\n",
       "      <td>food service,sports,bartending,radio productio...</td>\n",
       "      <td>1</td>\n",
       "      <td>0</td>\n",
       "      <td>0</td>\n",
       "      <td>0</td>\n",
       "    </tr>\n",
       "    <tr>\n",
       "      <th>23</th>\n",
       "      <td>kwrjc6CWgbvJuVJYXWdB7w_0000</td>\n",
       "      <td>US</td>\n",
       "      <td>data entry specialist</td>\n",
       "      <td>account manager</td>\n",
       "      <td>administrative assistant</td>\n",
       "      <td>co-owner</td>\n",
       "      <td>asset and business manager</td>\n",
       "      <td>NaN</td>\n",
       "      <td>horizon fitness</td>\n",
       "      <td>microsoft</td>\n",
       "      <td>...</td>\n",
       "      <td>2</td>\n",
       "      <td>1.0</td>\n",
       "      <td>1.0</td>\n",
       "      <td>1.0</td>\n",
       "      <td>3.0</td>\n",
       "      <td>fast learner,mysql,javaserver pages,powerpoint...</td>\n",
       "      <td>0</td>\n",
       "      <td>0</td>\n",
       "      <td>0</td>\n",
       "      <td>0</td>\n",
       "    </tr>\n",
       "    <tr>\n",
       "      <th>32</th>\n",
       "      <td>FhmCzYo-BWWfmOBalACc4Q_0000</td>\n",
       "      <td>US</td>\n",
       "      <td>radiation therapist</td>\n",
       "      <td>NaN</td>\n",
       "      <td>NaN</td>\n",
       "      <td>NaN</td>\n",
       "      <td>NaN</td>\n",
       "      <td>NaN</td>\n",
       "      <td>us oncology</td>\n",
       "      <td>NaN</td>\n",
       "      <td>...</td>\n",
       "      <td>1</td>\n",
       "      <td>NaN</td>\n",
       "      <td>NaN</td>\n",
       "      <td>NaN</td>\n",
       "      <td>NaN</td>\n",
       "      <td>research,cancer,radiation therapy,powerpoint</td>\n",
       "      <td>1</td>\n",
       "      <td>0</td>\n",
       "      <td>0</td>\n",
       "      <td>0</td>\n",
       "    </tr>\n",
       "    <tr>\n",
       "      <th>34</th>\n",
       "      <td>ZnLOAQ7HvtwVpjjoDvZwEQ_0000</td>\n",
       "      <td>US</td>\n",
       "      <td>power electronics engineer intern</td>\n",
       "      <td>graduate research assistant</td>\n",
       "      <td>investigator</td>\n",
       "      <td>intelligent vehicle engineer, grid/localizatio...</td>\n",
       "      <td>slam and control algorithms consultant</td>\n",
       "      <td>autonomous driving application engineer</td>\n",
       "      <td>state grid corporation of china</td>\n",
       "      <td>arizona state university</td>\n",
       "      <td>...</td>\n",
       "      <td>2</td>\n",
       "      <td>1.0</td>\n",
       "      <td>1.0</td>\n",
       "      <td>2.0</td>\n",
       "      <td>4.0</td>\n",
       "      <td>powerpoint,linux,algorithms,self driving car,c...</td>\n",
       "      <td>1</td>\n",
       "      <td>1</td>\n",
       "      <td>0</td>\n",
       "      <td>0</td>\n",
       "    </tr>\n",
       "  </tbody>\n",
       "</table>\n",
       "<p>5 rows × 57 columns</p>\n",
       "</div>"
      ],
      "text/plain": [
       "                             id country                              job_1  \\\n",
       "9   FLrGKPbBhoUIWgNzmGwrEg_0000      US    vice president of communication   \n",
       "22  hoDqOmPeNqjZGpQgTmnCtg_0000      US                             server   \n",
       "23  kwrjc6CWgbvJuVJYXWdB7w_0000      US              data entry specialist   \n",
       "32  FhmCzYo-BWWfmOBalACc4Q_0000      US                radiation therapist   \n",
       "34  ZnLOAQ7HvtwVpjjoDvZwEQ_0000      US  power electronics engineer intern   \n",
       "\n",
       "                          job_2                     job_3  \\\n",
       "9                       partner          junior developer   \n",
       "22                       server           sever/bartender   \n",
       "23              account manager  administrative assistant   \n",
       "32                          NaN                       NaN   \n",
       "34  graduate research assistant              investigator   \n",
       "\n",
       "                                                job_4  \\\n",
       "9                                  software developer   \n",
       "22  public announcer/tournament organizer and volu...   \n",
       "23                                           co-owner   \n",
       "32                                                NaN   \n",
       "34  intelligent vehicle engineer, grid/localizatio...   \n",
       "\n",
       "                                     job_5  \\\n",
       "9                                      NaN   \n",
       "22                 dj/ writer / work study   \n",
       "23              asset and business manager   \n",
       "32                                     NaN   \n",
       "34  slam and control algorithms consultant   \n",
       "\n",
       "                                              job_6  \\\n",
       "9                                               NaN   \n",
       "22  professional communication consultant & manager   \n",
       "23                                              NaN   \n",
       "32                                              NaN   \n",
       "34          autonomous driving application engineer   \n",
       "\n",
       "                         employer_1                       employer_2 ...  \\\n",
       "9       aiesec in the united states              j flores enterprise ...   \n",
       "22                 wholly guacamole  international house of pancakes ...   \n",
       "23                  horizon fitness                        microsoft ...   \n",
       "32                      us oncology                              NaN ...   \n",
       "34  state grid corporation of china         arizona state university ...   \n",
       "\n",
       "   degree_count time_job_2 time_job_3 time_job_4  time_job_1_4  \\\n",
       "9             2        2.0        3.0        1.0           6.0   \n",
       "22            2        1.0        2.0        6.0           9.0   \n",
       "23            2        1.0        1.0        1.0           3.0   \n",
       "32            1        NaN        NaN        NaN           NaN   \n",
       "34            2        1.0        1.0        2.0           4.0   \n",
       "\n",
       "                                           skill_list  ba  ma  do  Ot  \n",
       "9   leadership,powerpoint,social media,digital sur...   1   0   0   1  \n",
       "22  food service,sports,bartending,radio productio...   1   0   0   0  \n",
       "23  fast learner,mysql,javaserver pages,powerpoint...   0   0   0   0  \n",
       "32       research,cancer,radiation therapy,powerpoint   1   0   0   0  \n",
       "34  powerpoint,linux,algorithms,self driving car,c...   1   1   0   0  \n",
       "\n",
       "[5 rows x 57 columns]"
      ]
     },
     "execution_count": 53,
     "metadata": {},
     "output_type": "execute_result"
    }
   ],
   "source": [
    "## Note: 6,863 youth in our dataset graduated in 2013 with only secondary education (approx. 1% of sample)\n",
    "\n",
    "# young professionals in 2013 have more than secondary education in 2013\n",
    "df_2013_yprofs = df_2013[df_2013.degree_1_type != 'se']\n",
    "df_2013_yprofs.head()"
   ]
  },
  {
   "cell_type": "code",
   "execution_count": 54,
   "metadata": {},
   "outputs": [
    {
     "data": {
      "text/plain": [
       "(92085, 57)"
      ]
     },
     "execution_count": 54,
     "metadata": {},
     "output_type": "execute_result"
    }
   ],
   "source": [
    "df_2013_yprofs.shape"
   ]
  },
  {
   "cell_type": "markdown",
   "metadata": {},
   "source": [
    "### Summary Statistics - Work & Education Experience"
   ]
  },
  {
   "cell_type": "markdown",
   "metadata": {},
   "source": [
    "Motivation and Methodology Overview: \n",
    "* First, we hypothesize that the following variables may influence level and/or structure of skills as reported by recent graduates in the data: \n",
    "     number of jobs, \n",
    "     years of work experience, \n",
    "     number of credentials/degrees, \n",
    "     level of education, and \n",
    "     discipline of education.\n",
    "* Second, in order to quantify these relationships without having access to the structure of skills (which right now are lists in columns - will be brought out in further stages of the analysis), we'll attempt to quantify by evaluating one cohort by graduation year: 2013. \n",
    "\n",
    "Key Findings and Summary Statistics on our 2013 Cohort: \n",
    "\n",
    "* _Median and Distribution of # of Jobs:_ The median number of jobs held by these recent graduates is 6 jobs, with a standard deviation of 0.84. The max number of jobs shown in the data is 6. \n",
    "\n",
    "* _Years of Work Experience:_ By looking at the time spent between job 1 and 4, the median number of years is 4 years, which indicates a high turnover rate, with a standard deviation of 3.3. \n",
    "\n",
    "* _Number of Credentials / Degrees:_ The median number of credentials / degree held by these recent graduates is 2 degrees, with a standard deviation of 0.8. The maximum number is 4. \n",
    "\n",
    "* _Level of Education:_ We found that 92% of our sample have a bachelor's degree, 18% have a master's, 3% have a doctorate, and 41% have some Other kind of credential. \n",
    "\n",
    "Primary Finding (to be continued): \n",
    "* Until our dependent variable of \"skills\" is properly structured through clustering, we are limited in what we can do for inferential statistics, since we don't have a clean variable to measure effects from other variables on. The analysis that follows, explores data in more depth to continue the \"data story\" from the previous step in better understanding some of the trends. \n"
   ]
  },
  {
   "cell_type": "code",
   "execution_count": 90,
   "metadata": {},
   "outputs": [
    {
     "data": {
      "text/plain": [
       "count    43257.000000\n",
       "mean         5.249809\n",
       "std          0.840868\n",
       "min          4.000000\n",
       "25%          4.000000\n",
       "50%          6.000000\n",
       "75%          6.000000\n",
       "max          6.000000\n",
       "Name: job_count, dtype: float64"
      ]
     },
     "execution_count": 90,
     "metadata": {},
     "output_type": "execute_result"
    }
   ],
   "source": [
    "# job count\n",
    "df_2013_yprofs.job_count.describe()"
   ]
  },
  {
   "cell_type": "code",
   "execution_count": 89,
   "metadata": {},
   "outputs": [
    {
     "data": {
      "text/plain": [
       "6.0"
      ]
     },
     "execution_count": 89,
     "metadata": {},
     "output_type": "execute_result"
    }
   ],
   "source": [
    "df_2013_yprofs.job_count.median()"
   ]
  },
  {
   "cell_type": "code",
   "execution_count": 88,
   "metadata": {},
   "outputs": [
    {
     "data": {
      "text/plain": [
       "count    43257.000000\n",
       "mean         4.438750\n",
       "std          2.543309\n",
       "min          0.000000\n",
       "25%          3.000000\n",
       "50%          4.000000\n",
       "75%          6.000000\n",
       "max         14.000000\n",
       "Name: time_job_1_4, dtype: float64"
      ]
     },
     "execution_count": 88,
     "metadata": {},
     "output_type": "execute_result"
    }
   ],
   "source": [
    "# time spent between jobs 1 and 4\n",
    "df_2013_yprofs.time_job_1_4.describe()"
   ]
  },
  {
   "cell_type": "code",
   "execution_count": 87,
   "metadata": {},
   "outputs": [
    {
     "data": {
      "text/plain": [
       "4.0"
      ]
     },
     "execution_count": 87,
     "metadata": {},
     "output_type": "execute_result"
    }
   ],
   "source": [
    "# look at median work experience\n",
    "df_2013_yprofs.time_job_1_4.median()"
   ]
  },
  {
   "cell_type": "code",
   "execution_count": 86,
   "metadata": {},
   "outputs": [
    {
     "data": {
      "text/plain": [
       "count    43257.000000\n",
       "mean         1.921076\n",
       "std          0.894760\n",
       "min          1.000000\n",
       "25%          1.000000\n",
       "50%          2.000000\n",
       "75%          2.000000\n",
       "max          4.000000\n",
       "Name: degree_count, dtype: float64"
      ]
     },
     "execution_count": 86,
     "metadata": {},
     "output_type": "execute_result"
    }
   ],
   "source": [
    "# number of credentials\n",
    "df_2013_yprofs.degree_count.describe()"
   ]
  },
  {
   "cell_type": "code",
   "execution_count": 85,
   "metadata": {},
   "outputs": [
    {
     "data": {
      "text/plain": [
       "2.0"
      ]
     },
     "execution_count": 85,
     "metadata": {},
     "output_type": "execute_result"
    }
   ],
   "source": [
    "df_2013_yprofs.degree_count.median()"
   ]
  },
  {
   "cell_type": "code",
   "execution_count": 80,
   "metadata": {},
   "outputs": [
    {
     "data": {
      "text/plain": [
       "1    0.925006\n",
       "0    0.074994\n",
       "Name: ba, dtype: float64"
      ]
     },
     "execution_count": 80,
     "metadata": {},
     "output_type": "execute_result"
    }
   ],
   "source": [
    "# level of education\n",
    "## bachelors --> (93%)\n",
    "df_2013_yprofs.ba.value_counts(normalize=True)"
   ]
  },
  {
   "cell_type": "code",
   "execution_count": 81,
   "metadata": {},
   "outputs": [
    {
     "data": {
      "text/plain": [
       "0    0.815729\n",
       "1    0.184271\n",
       "Name: ma, dtype: float64"
      ]
     },
     "execution_count": 81,
     "metadata": {},
     "output_type": "execute_result"
    }
   ],
   "source": [
    "## masters --> (18%)\n",
    "df_2013_yprofs.ma.value_counts(normalize=True)"
   ]
  },
  {
   "cell_type": "code",
   "execution_count": 82,
   "metadata": {},
   "outputs": [
    {
     "data": {
      "text/plain": [
       "0    0.969161\n",
       "1    0.030839\n",
       "Name: do, dtype: float64"
      ]
     },
     "execution_count": 82,
     "metadata": {},
     "output_type": "execute_result"
    }
   ],
   "source": [
    "# doctorate --> (3%)\n",
    "df_2013_yprofs.do.value_counts(normalize=True)"
   ]
  },
  {
   "cell_type": "code",
   "execution_count": 84,
   "metadata": {},
   "outputs": [
    {
     "data": {
      "text/plain": [
       "0    0.587419\n",
       "1    0.412581\n",
       "Name: Ot, dtype: float64"
      ]
     },
     "execution_count": 84,
     "metadata": {},
     "output_type": "execute_result"
    }
   ],
   "source": [
    "## associates or Other --> (41%)\n",
    "df_2013_yprofs.Ot.value_counts(normalize=True)"
   ]
  },
  {
   "cell_type": "code",
   "execution_count": 79,
   "metadata": {},
   "outputs": [
    {
     "data": {
      "text/plain": [
       "intern                             1109\n",
       "sales associate                    1100\n",
       "research assistant                  608\n",
       "customer service representative     478\n",
       "cashier                             477\n",
       "administrative assistant            424\n",
       "assistant manager                   286\n",
       "server                              281\n",
       "office assistant                    216\n",
       "manager                             213\n",
       "receptionist                        198\n",
       "summer intern                       197\n",
       "sales representative                189\n",
       "barista                             182\n",
       "volunteer                           163\n",
       "lifeguard                           152\n",
       "teaching assistant                  151\n",
       "camp counselor                      143\n",
       "marketing intern                    142\n",
       "internship                          138\n",
       "Name: job_1, dtype: int64"
      ]
     },
     "execution_count": 79,
     "metadata": {},
     "output_type": "execute_result"
    }
   ],
   "source": [
    "## look at common entry level work experience (does it relate to our findings in data storytelling?)\n",
    "df_2013_yprofs.job_1.value_counts()[:20]"
   ]
  },
  {
   "cell_type": "code",
   "execution_count": 78,
   "metadata": {},
   "outputs": [
    {
     "data": {
      "text/plain": [
       "intern                             222\n",
       "research assistant                 193\n",
       "teaching assistant                 129\n",
       "sales associate                    123\n",
       "administrative assistant           105\n",
       "software engineer                  104\n",
       "project manager                     99\n",
       "server                              91\n",
       "customer service representative     86\n",
       "account manager                     85\n",
       "account executive                   75\n",
       "sales representative                69\n",
       "software developer                  66\n",
       "associate                           63\n",
       "staff accountant                    61\n",
       "president                           59\n",
       "graduate teaching assistant         59\n",
       "project coordinator                 59\n",
       "marketing coordinator               58\n",
       "graphic designer                    57\n",
       "Name: job_6, dtype: int64"
      ]
     },
     "execution_count": 78,
     "metadata": {},
     "output_type": "execute_result"
    }
   ],
   "source": [
    "# look at more advanced forms of work experience at job 6\n",
    "df_2013_yprofs.job_6.value_counts()[:20]"
   ]
  },
  {
   "cell_type": "code",
   "execution_count": 77,
   "metadata": {
    "scrolled": true
   },
   "outputs": [
    {
     "data": {
      "text/plain": [
       "6    22045\n",
       "4    11239\n",
       "5     9973\n",
       "Name: job_count, dtype: int64"
      ]
     },
     "execution_count": 77,
     "metadata": {},
     "output_type": "execute_result"
    }
   ],
   "source": [
    "# look at distribution of work experience in our sample\n",
    "df_2013_yprofs.job_count.value_counts()"
   ]
  },
  {
   "cell_type": "code",
   "execution_count": 76,
   "metadata": {},
   "outputs": [
    {
     "data": {
      "text/html": [
       "<div>\n",
       "<style scoped>\n",
       "    .dataframe tbody tr th:only-of-type {\n",
       "        vertical-align: middle;\n",
       "    }\n",
       "\n",
       "    .dataframe tbody tr th {\n",
       "        vertical-align: top;\n",
       "    }\n",
       "\n",
       "    .dataframe thead th {\n",
       "        text-align: right;\n",
       "    }\n",
       "</style>\n",
       "<table border=\"1\" class=\"dataframe\">\n",
       "  <thead>\n",
       "    <tr style=\"text-align: right;\">\n",
       "      <th>job_count</th>\n",
       "      <th>4</th>\n",
       "      <th>5</th>\n",
       "      <th>6</th>\n",
       "      <th>All</th>\n",
       "    </tr>\n",
       "    <tr>\n",
       "      <th>major_1_type</th>\n",
       "      <th></th>\n",
       "      <th></th>\n",
       "      <th></th>\n",
       "      <th></th>\n",
       "    </tr>\n",
       "  </thead>\n",
       "  <tbody>\n",
       "    <tr>\n",
       "      <th>Business and Comms</th>\n",
       "      <td>2682</td>\n",
       "      <td>2446</td>\n",
       "      <td>5162</td>\n",
       "      <td>10290</td>\n",
       "    </tr>\n",
       "    <tr>\n",
       "      <th>Computer and IT</th>\n",
       "      <td>368</td>\n",
       "      <td>296</td>\n",
       "      <td>534</td>\n",
       "      <td>1198</td>\n",
       "    </tr>\n",
       "    <tr>\n",
       "      <th>Construction and Trades</th>\n",
       "      <td>23</td>\n",
       "      <td>26</td>\n",
       "      <td>33</td>\n",
       "      <td>82</td>\n",
       "    </tr>\n",
       "    <tr>\n",
       "      <th>Culture, Language, and Fine Arts</th>\n",
       "      <td>857</td>\n",
       "      <td>828</td>\n",
       "      <td>2219</td>\n",
       "      <td>3904</td>\n",
       "    </tr>\n",
       "    <tr>\n",
       "      <th>Health and Education</th>\n",
       "      <td>449</td>\n",
       "      <td>327</td>\n",
       "      <td>654</td>\n",
       "      <td>1430</td>\n",
       "    </tr>\n",
       "    <tr>\n",
       "      <th>Law and Government</th>\n",
       "      <td>199</td>\n",
       "      <td>158</td>\n",
       "      <td>287</td>\n",
       "      <td>644</td>\n",
       "    </tr>\n",
       "    <tr>\n",
       "      <th>Other</th>\n",
       "      <td>2137</td>\n",
       "      <td>2054</td>\n",
       "      <td>5175</td>\n",
       "      <td>9366</td>\n",
       "    </tr>\n",
       "    <tr>\n",
       "      <th>Science, Math, Eng, and Arch</th>\n",
       "      <td>2287</td>\n",
       "      <td>1907</td>\n",
       "      <td>3589</td>\n",
       "      <td>7783</td>\n",
       "    </tr>\n",
       "    <tr>\n",
       "      <th>Social Science</th>\n",
       "      <td>1639</td>\n",
       "      <td>1489</td>\n",
       "      <td>3496</td>\n",
       "      <td>6624</td>\n",
       "    </tr>\n",
       "    <tr>\n",
       "      <th>Tourism and Hospitality</th>\n",
       "      <td>92</td>\n",
       "      <td>79</td>\n",
       "      <td>167</td>\n",
       "      <td>338</td>\n",
       "    </tr>\n",
       "    <tr>\n",
       "      <th>All</th>\n",
       "      <td>10733</td>\n",
       "      <td>9610</td>\n",
       "      <td>21316</td>\n",
       "      <td>41659</td>\n",
       "    </tr>\n",
       "  </tbody>\n",
       "</table>\n",
       "</div>"
      ],
      "text/plain": [
       "job_count                             4     5      6    All\n",
       "major_1_type                                               \n",
       "Business and Comms                 2682  2446   5162  10290\n",
       "Computer and IT                     368   296    534   1198\n",
       "Construction and Trades              23    26     33     82\n",
       "Culture, Language, and Fine Arts    857   828   2219   3904\n",
       "Health and Education                449   327    654   1430\n",
       "Law and Government                  199   158    287    644\n",
       "Other                              2137  2054   5175   9366\n",
       "Science, Math, Eng, and Arch       2287  1907   3589   7783\n",
       "Social Science                     1639  1489   3496   6624\n",
       "Tourism and Hospitality              92    79    167    338\n",
       "All                               10733  9610  21316  41659"
      ]
     },
     "execution_count": 76,
     "metadata": {},
     "output_type": "execute_result"
    }
   ],
   "source": [
    "major1_job_count_table = pd.crosstab(index=df_2013_yprofs.major_1_type, columns=df_2013_yprofs.job_count, margins=True)\n",
    "major1_job_count_table"
   ]
  },
  {
   "cell_type": "code",
   "execution_count": 91,
   "metadata": {},
   "outputs": [
    {
     "data": {
      "text/html": [
       "<div>\n",
       "<style scoped>\n",
       "    .dataframe tbody tr th:only-of-type {\n",
       "        vertical-align: middle;\n",
       "    }\n",
       "\n",
       "    .dataframe tbody tr th {\n",
       "        vertical-align: top;\n",
       "    }\n",
       "\n",
       "    .dataframe thead th {\n",
       "        text-align: right;\n",
       "    }\n",
       "</style>\n",
       "<table border=\"1\" class=\"dataframe\">\n",
       "  <thead>\n",
       "    <tr style=\"text-align: right;\">\n",
       "      <th>degree_count</th>\n",
       "      <th>1</th>\n",
       "      <th>2</th>\n",
       "      <th>3</th>\n",
       "      <th>4</th>\n",
       "      <th>All</th>\n",
       "    </tr>\n",
       "    <tr>\n",
       "      <th>major_1_type</th>\n",
       "      <th></th>\n",
       "      <th></th>\n",
       "      <th></th>\n",
       "      <th></th>\n",
       "      <th></th>\n",
       "    </tr>\n",
       "  </thead>\n",
       "  <tbody>\n",
       "    <tr>\n",
       "      <th>Business and Comms</th>\n",
       "      <td>5545</td>\n",
       "      <td>3313</td>\n",
       "      <td>1063</td>\n",
       "      <td>369</td>\n",
       "      <td>10290</td>\n",
       "    </tr>\n",
       "    <tr>\n",
       "      <th>Computer and IT</th>\n",
       "      <td>699</td>\n",
       "      <td>358</td>\n",
       "      <td>108</td>\n",
       "      <td>33</td>\n",
       "      <td>1198</td>\n",
       "    </tr>\n",
       "    <tr>\n",
       "      <th>Construction and Trades</th>\n",
       "      <td>51</td>\n",
       "      <td>15</td>\n",
       "      <td>12</td>\n",
       "      <td>4</td>\n",
       "      <td>82</td>\n",
       "    </tr>\n",
       "    <tr>\n",
       "      <th>Culture, Language, and Fine Arts</th>\n",
       "      <td>1669</td>\n",
       "      <td>1470</td>\n",
       "      <td>548</td>\n",
       "      <td>217</td>\n",
       "      <td>3904</td>\n",
       "    </tr>\n",
       "    <tr>\n",
       "      <th>Health and Education</th>\n",
       "      <td>568</td>\n",
       "      <td>601</td>\n",
       "      <td>201</td>\n",
       "      <td>60</td>\n",
       "      <td>1430</td>\n",
       "    </tr>\n",
       "    <tr>\n",
       "      <th>Law and Government</th>\n",
       "      <td>278</td>\n",
       "      <td>256</td>\n",
       "      <td>65</td>\n",
       "      <td>45</td>\n",
       "      <td>644</td>\n",
       "    </tr>\n",
       "    <tr>\n",
       "      <th>Other</th>\n",
       "      <td>15</td>\n",
       "      <td>4855</td>\n",
       "      <td>2860</td>\n",
       "      <td>1636</td>\n",
       "      <td>9366</td>\n",
       "    </tr>\n",
       "    <tr>\n",
       "      <th>Science, Math, Eng, and Arch</th>\n",
       "      <td>3313</td>\n",
       "      <td>3250</td>\n",
       "      <td>924</td>\n",
       "      <td>296</td>\n",
       "      <td>7783</td>\n",
       "    </tr>\n",
       "    <tr>\n",
       "      <th>Social Science</th>\n",
       "      <td>2371</td>\n",
       "      <td>3061</td>\n",
       "      <td>886</td>\n",
       "      <td>306</td>\n",
       "      <td>6624</td>\n",
       "    </tr>\n",
       "    <tr>\n",
       "      <th>Tourism and Hospitality</th>\n",
       "      <td>173</td>\n",
       "      <td>118</td>\n",
       "      <td>35</td>\n",
       "      <td>12</td>\n",
       "      <td>338</td>\n",
       "    </tr>\n",
       "    <tr>\n",
       "      <th>All</th>\n",
       "      <td>14682</td>\n",
       "      <td>17297</td>\n",
       "      <td>6702</td>\n",
       "      <td>2978</td>\n",
       "      <td>41659</td>\n",
       "    </tr>\n",
       "  </tbody>\n",
       "</table>\n",
       "</div>"
      ],
      "text/plain": [
       "degree_count                          1      2     3     4    All\n",
       "major_1_type                                                     \n",
       "Business and Comms                 5545   3313  1063   369  10290\n",
       "Computer and IT                     699    358   108    33   1198\n",
       "Construction and Trades              51     15    12     4     82\n",
       "Culture, Language, and Fine Arts   1669   1470   548   217   3904\n",
       "Health and Education                568    601   201    60   1430\n",
       "Law and Government                  278    256    65    45    644\n",
       "Other                                15   4855  2860  1636   9366\n",
       "Science, Math, Eng, and Arch       3313   3250   924   296   7783\n",
       "Social Science                     2371   3061   886   306   6624\n",
       "Tourism and Hospitality             173    118    35    12    338\n",
       "All                               14682  17297  6702  2978  41659"
      ]
     },
     "execution_count": 91,
     "metadata": {},
     "output_type": "execute_result"
    }
   ],
   "source": [
    "major1_degree_count_table = pd.crosstab(index=df_2013_yprofs.major_1_type, columns=df_2013_yprofs.degree_count, margins=True)\n",
    "major1_degree_count_table"
   ]
  },
  {
   "cell_type": "code",
   "execution_count": 113,
   "metadata": {
    "scrolled": true
   },
   "outputs": [
    {
     "data": {
      "image/png": "[encoded data removed]",
      "text/plain": [
       "<Figure size 864x720 with 1 Axes>"
      ]
     },
     "metadata": {
      "needs_background": "light"
     },
     "output_type": "display_data"
    }
   ],
   "source": [
    "# do degree types / disciplines influence the number of jobs?\n",
    "_ = plt.figure(figsize=(12,10))\n",
    "_ = sns.boxplot(y='major_1_type', x='job_count', data = df_2013_yprofs, orient = 'h');\n",
    "plt.title('major type vs. number of jobs');\n",
    "plt.show()"
   ]
  },
  {
   "cell_type": "code",
   "execution_count": 72,
   "metadata": {},
   "outputs": [
    {
     "data": {
      "image/png": "[encoded data removed]",
      "text/plain": [
       "<Figure size 864x720 with 1 Axes>"
      ]
     },
     "metadata": {
      "needs_background": "light"
     },
     "output_type": "display_data"
    }
   ],
   "source": [
    "# do degree types / disciplines influence average time spent across jobs?\n",
    "_ = plt.figure(figsize=(12,10))\n",
    "_ = sns.boxplot(y='major_1_type', x='time_job_1_4', data = df_2013_yprofs, orient = 'h');\n",
    "plt.title('major type vs. time between jobs');\n",
    "plt.show()"
   ]
  },
  {
   "cell_type": "code",
   "execution_count": 73,
   "metadata": {},
   "outputs": [
    {
     "data": {
      "text/plain": [
       "(43257, 57)"
      ]
     },
     "execution_count": 73,
     "metadata": {},
     "output_type": "execute_result"
    }
   ],
   "source": [
    "## Note the outliers on time between jobs 1 and 4 - if about 15 or above, these are not likely to be recent graduates (and should be evaluated in a different cohort)\n",
    "\n",
    "df_2013_yprofs = df_2013_yprofs[df_2013_yprofs.time_job_1_4 < 15]\n",
    "df_2013_yprofs.shape"
   ]
  },
  {
   "cell_type": "code",
   "execution_count": 75,
   "metadata": {},
   "outputs": [
    {
     "data": {
      "image/png": "[encoded data removed]",
      "text/plain": [
       "<Figure size 864x720 with 1 Axes>"
      ]
     },
     "metadata": {
      "needs_background": "light"
     },
     "output_type": "display_data"
    }
   ],
   "source": [
    "## retry the same boxplot above to see distribution\n",
    "_ = plt.figure(figsize=(12,10))\n",
    "_ = sns.boxplot(y='major_1_type', x='time_job_1_4', data = df_2013_yprofs, orient = 'h');\n",
    "plt.title('major type vs. time between jobs - major outliers removed for yprofs');\n",
    "plt.show()"
   ]
  },
  {
   "cell_type": "code",
   "execution_count": 92,
   "metadata": {},
   "outputs": [
    {
     "data": {
      "text/plain": [
       "count    43257.000000\n",
       "mean         1.923273\n",
       "std          1.795904\n",
       "min          0.000000\n",
       "25%          1.000000\n",
       "50%          1.000000\n",
       "75%          3.000000\n",
       "max         13.000000\n",
       "Name: time_job_2, dtype: float64"
      ]
     },
     "execution_count": 92,
     "metadata": {},
     "output_type": "execute_result"
    }
   ],
   "source": [
    "df_2013_yprofs.time_job_2.describe()\t"
   ]
  },
  {
   "cell_type": "code",
   "execution_count": 93,
   "metadata": {},
   "outputs": [
    {
     "data": {
      "text/plain": [
       "count    43257.000000\n",
       "mean         1.299466\n",
       "std          1.255197\n",
       "min          0.000000\n",
       "25%          1.000000\n",
       "50%          1.000000\n",
       "75%          2.000000\n",
       "max         14.000000\n",
       "Name: time_job_3, dtype: float64"
      ]
     },
     "execution_count": 93,
     "metadata": {},
     "output_type": "execute_result"
    }
   ],
   "source": [
    "df_2013_yprofs.time_job_3.describe()"
   ]
  },
  {
   "cell_type": "code",
   "execution_count": 94,
   "metadata": {},
   "outputs": [
    {
     "data": {
      "text/plain": [
       "count    43257.000000\n",
       "mean         1.216011\n",
       "std          1.189055\n",
       "min          0.000000\n",
       "25%          0.000000\n",
       "50%          1.000000\n",
       "75%          2.000000\n",
       "max         14.000000\n",
       "Name: time_job_4, dtype: float64"
      ]
     },
     "execution_count": 94,
     "metadata": {},
     "output_type": "execute_result"
    }
   ],
   "source": [
    "df_2013_yprofs.time_job_4.describe()"
   ]
  },
  {
   "cell_type": "code",
   "execution_count": 95,
   "metadata": {},
   "outputs": [
    {
     "data": {
      "image/png": "[encoded data removed]",
      "text/plain": [
       "<Figure size 864x720 with 1 Axes>"
      ]
     },
     "metadata": {
      "needs_background": "light"
     },
     "output_type": "display_data"
    }
   ],
   "source": [
    "_ = plt.figure(figsize=(12,10))\n",
    "_ = sns.boxplot(y='major_1_type', x='time_job_2', data = df_2013_yprofs, orient = 'h');\n",
    "plt.title('major type vs. time between first two jobs - major outliers removed for yprofs');\n",
    "plt.show()"
   ]
  },
  {
   "cell_type": "code",
   "execution_count": 96,
   "metadata": {},
   "outputs": [
    {
     "data": {
      "image/png": "[encoded data removed]",
      "text/plain": [
       "<Figure size 864x720 with 1 Axes>"
      ]
     },
     "metadata": {
      "needs_background": "light"
     },
     "output_type": "display_data"
    }
   ],
   "source": [
    "_ = plt.figure(figsize=(12,10))\n",
    "_ = sns.boxplot(y='major_1_type', x='time_job_3', data = df_2013_yprofs, orient = 'h');\n",
    "plt.title('major type vs. time between jobs two and three - major outliers removed for yprofs');\n",
    "plt.show()"
   ]
  },
  {
   "cell_type": "code",
   "execution_count": 97,
   "metadata": {},
   "outputs": [
    {
     "data": {
      "image/png": "[encoded data removed]",
      "text/plain": [
       "<Figure size 864x720 with 1 Axes>"
      ]
     },
     "metadata": {
      "needs_background": "light"
     },
     "output_type": "display_data"
    }
   ],
   "source": [
    "_ = plt.figure(figsize=(12,10))\n",
    "_ = sns.boxplot(y='major_1_type', x='time_job_3', data = df_2013_yprofs, orient = 'h');\n",
    "plt.title('major type vs. time between jobs three and four - major outliers removed for yprofs');\n",
    "plt.show()"
   ]
  },
  {
   "cell_type": "markdown",
   "metadata": {},
   "source": [
    "From our plots above, we can observe that there might be a trend towards decreasing time spent between jobs as job #s increase among our graduate sample, with a wider spread of time spent noticable among graduates in Social Science, CLFA, and Health and Education. "
   ]
  },
  {
   "cell_type": "markdown",
   "metadata": {},
   "source": [
    "### Skills Structure Inference\n",
    "What we're mostly interested in exploring in for this project is trends associated with skills structure. We take a look now at looking deeper at which skills are listed most and least frequently by this cohort. "
   ]
  },
  {
   "cell_type": "code",
   "execution_count": 105,
   "metadata": {},
   "outputs": [
    {
     "data": {
      "text/plain": [
       "microsoft office      0.027560\n",
       "customer service      0.022329\n",
       "microsoft excel       0.021693\n",
       "microsoft word        0.018871\n",
       "powerpoint            0.017856\n",
       "leadership            0.017084\n",
       "public speaking       0.016764\n",
       "research              0.015885\n",
       "teamwork              0.015309\n",
       "social media          0.015120\n",
       "time management       0.013712\n",
       "event planning        0.010928\n",
       "management            0.010345\n",
       "sales                 0.008439\n",
       "marketing             0.007440\n",
       "team leadership       0.006963\n",
       "social networking     0.006404\n",
       "project management    0.006000\n",
       "communication         0.005916\n",
       "data analysis         0.005767\n",
       "dtype: float64"
      ]
     },
     "execution_count": 105,
     "metadata": {},
     "output_type": "execute_result"
    }
   ],
   "source": [
    "df_2013_yprofs.skill_list.str.split(',', expand=True).stack().value_counts(normalize=True)[:20]"
   ]
  },
  {
   "cell_type": "code",
   "execution_count": 109,
   "metadata": {},
   "outputs": [],
   "source": [
    "# testing to see if a more refined cut of this data (those with Masters degrees) brings out any other skills structure\n",
    "df_ma = df_2013_yprofs[df_2013_yprofs.ma == 1]"
   ]
  },
  {
   "cell_type": "code",
   "execution_count": 110,
   "metadata": {},
   "outputs": [
    {
     "data": {
      "text/html": [
       "<div>\n",
       "<style scoped>\n",
       "    .dataframe tbody tr th:only-of-type {\n",
       "        vertical-align: middle;\n",
       "    }\n",
       "\n",
       "    .dataframe tbody tr th {\n",
       "        vertical-align: top;\n",
       "    }\n",
       "\n",
       "    .dataframe thead th {\n",
       "        text-align: right;\n",
       "    }\n",
       "</style>\n",
       "<table border=\"1\" class=\"dataframe\">\n",
       "  <thead>\n",
       "    <tr style=\"text-align: right;\">\n",
       "      <th></th>\n",
       "      <th>id</th>\n",
       "      <th>country</th>\n",
       "      <th>job_1</th>\n",
       "      <th>job_2</th>\n",
       "      <th>job_3</th>\n",
       "      <th>job_4</th>\n",
       "      <th>job_5</th>\n",
       "      <th>job_6</th>\n",
       "      <th>employer_1</th>\n",
       "      <th>employer_2</th>\n",
       "      <th>...</th>\n",
       "      <th>degree_count</th>\n",
       "      <th>time_job_2</th>\n",
       "      <th>time_job_3</th>\n",
       "      <th>time_job_4</th>\n",
       "      <th>time_job_1_4</th>\n",
       "      <th>skill_list</th>\n",
       "      <th>ba</th>\n",
       "      <th>ma</th>\n",
       "      <th>do</th>\n",
       "      <th>Ot</th>\n",
       "    </tr>\n",
       "  </thead>\n",
       "  <tbody>\n",
       "    <tr>\n",
       "      <th>34</th>\n",
       "      <td>ZnLOAQ7HvtwVpjjoDvZwEQ_0000</td>\n",
       "      <td>US</td>\n",
       "      <td>power electronics engineer intern</td>\n",
       "      <td>graduate research assistant</td>\n",
       "      <td>investigator</td>\n",
       "      <td>intelligent vehicle engineer, grid/localizatio...</td>\n",
       "      <td>slam and control algorithms consultant</td>\n",
       "      <td>autonomous driving application engineer</td>\n",
       "      <td>state grid corporation of china</td>\n",
       "      <td>arizona state university</td>\n",
       "      <td>...</td>\n",
       "      <td>2</td>\n",
       "      <td>1.0</td>\n",
       "      <td>1.0</td>\n",
       "      <td>2.0</td>\n",
       "      <td>4.0</td>\n",
       "      <td>powerpoint,linux,algorithms,self driving car,c...</td>\n",
       "      <td>1</td>\n",
       "      <td>1</td>\n",
       "      <td>0</td>\n",
       "      <td>0</td>\n",
       "    </tr>\n",
       "    <tr>\n",
       "      <th>191</th>\n",
       "      <td>oruVoGTPGSh6Nh-Y5Bk5jg_0000</td>\n",
       "      <td>US</td>\n",
       "      <td>intern to the honorable john cherry</td>\n",
       "      <td>fellowship vice president</td>\n",
       "      <td>intern</td>\n",
       "      <td>intern for senator bob casey</td>\n",
       "      <td>administrative assistant</td>\n",
       "      <td>client relations specialist</td>\n",
       "      <td>dauphin county court of common pleas</td>\n",
       "      <td>alpha phi omega national service fraternity</td>\n",
       "      <td>...</td>\n",
       "      <td>3</td>\n",
       "      <td>1.0</td>\n",
       "      <td>0.0</td>\n",
       "      <td>1.0</td>\n",
       "      <td>2.0</td>\n",
       "      <td>leadership,government administration,powerpoin...</td>\n",
       "      <td>1</td>\n",
       "      <td>1</td>\n",
       "      <td>0</td>\n",
       "      <td>1</td>\n",
       "    </tr>\n",
       "    <tr>\n",
       "      <th>264</th>\n",
       "      <td>oAI58ZUIJ7xK6BfjmkVC-A_0000</td>\n",
       "      <td>US</td>\n",
       "      <td>team leader</td>\n",
       "      <td>direct care</td>\n",
       "      <td>human resources</td>\n",
       "      <td>service team lead</td>\n",
       "      <td>interior design intern</td>\n",
       "      <td>NaN</td>\n",
       "      <td>lock haven university mountainserve office</td>\n",
       "      <td>lakeshore community service</td>\n",
       "      <td>...</td>\n",
       "      <td>3</td>\n",
       "      <td>1.0</td>\n",
       "      <td>1.0</td>\n",
       "      <td>2.0</td>\n",
       "      <td>4.0</td>\n",
       "      <td>leadership,microsoft office,teamwork,microsoft...</td>\n",
       "      <td>1</td>\n",
       "      <td>1</td>\n",
       "      <td>0</td>\n",
       "      <td>0</td>\n",
       "    </tr>\n",
       "    <tr>\n",
       "      <th>342</th>\n",
       "      <td>AhJhXUbttcNKHSRUA-mh6w_0000</td>\n",
       "      <td>US</td>\n",
       "      <td>trainee</td>\n",
       "      <td>summer trainee</td>\n",
       "      <td>apc engineer</td>\n",
       "      <td>technical trainee</td>\n",
       "      <td>student technician</td>\n",
       "      <td>process safety student co-op</td>\n",
       "      <td>meghmani finechem limited</td>\n",
       "      <td>gail (india) limited</td>\n",
       "      <td>...</td>\n",
       "      <td>2</td>\n",
       "      <td>1.0</td>\n",
       "      <td>1.0</td>\n",
       "      <td>0.0</td>\n",
       "      <td>2.0</td>\n",
       "      <td>powerpoint,c,windows,matlab,chemical engineeri...</td>\n",
       "      <td>1</td>\n",
       "      <td>1</td>\n",
       "      <td>0</td>\n",
       "      <td>0</td>\n",
       "    </tr>\n",
       "    <tr>\n",
       "      <th>463</th>\n",
       "      <td>lVqJ-VPVMepVgzHxmMj-Ww_0000</td>\n",
       "      <td>US</td>\n",
       "      <td>lead assistant tutor</td>\n",
       "      <td>undergraduate admissions student office assistant</td>\n",
       "      <td>pricing and competitive analysis intern</td>\n",
       "      <td>financial surveillance and company licensing i...</td>\n",
       "      <td>tax &amp; admin intern</td>\n",
       "      <td>financial analyst</td>\n",
       "      <td>kumon</td>\n",
       "      <td>bentley university</td>\n",
       "      <td>...</td>\n",
       "      <td>2</td>\n",
       "      <td>2.0</td>\n",
       "      <td>1.0</td>\n",
       "      <td>1.0</td>\n",
       "      <td>4.0</td>\n",
       "      <td>mathematics,auditing,writing,learning center,o...</td>\n",
       "      <td>1</td>\n",
       "      <td>1</td>\n",
       "      <td>0</td>\n",
       "      <td>0</td>\n",
       "    </tr>\n",
       "  </tbody>\n",
       "</table>\n",
       "<p>5 rows × 57 columns</p>\n",
       "</div>"
      ],
      "text/plain": [
       "                              id country                                job_1  \\\n",
       "34   ZnLOAQ7HvtwVpjjoDvZwEQ_0000      US    power electronics engineer intern   \n",
       "191  oruVoGTPGSh6Nh-Y5Bk5jg_0000      US  intern to the honorable john cherry   \n",
       "264  oAI58ZUIJ7xK6BfjmkVC-A_0000      US                          team leader   \n",
       "342  AhJhXUbttcNKHSRUA-mh6w_0000      US                              trainee   \n",
       "463  lVqJ-VPVMepVgzHxmMj-Ww_0000      US                 lead assistant tutor   \n",
       "\n",
       "                                                 job_2  \\\n",
       "34                         graduate research assistant   \n",
       "191                          fellowship vice president   \n",
       "264                                        direct care   \n",
       "342                                     summer trainee   \n",
       "463  undergraduate admissions student office assistant   \n",
       "\n",
       "                                       job_3  \\\n",
       "34                              investigator   \n",
       "191                                   intern   \n",
       "264                          human resources   \n",
       "342                             apc engineer   \n",
       "463  pricing and competitive analysis intern   \n",
       "\n",
       "                                                 job_4  \\\n",
       "34   intelligent vehicle engineer, grid/localizatio...   \n",
       "191                       intern for senator bob casey   \n",
       "264                                  service team lead   \n",
       "342                                  technical trainee   \n",
       "463  financial surveillance and company licensing i...   \n",
       "\n",
       "                                      job_5  \\\n",
       "34   slam and control algorithms consultant   \n",
       "191                administrative assistant   \n",
       "264                  interior design intern   \n",
       "342                      student technician   \n",
       "463                      tax & admin intern   \n",
       "\n",
       "                                       job_6  \\\n",
       "34   autonomous driving application engineer   \n",
       "191              client relations specialist   \n",
       "264                                      NaN   \n",
       "342             process safety student co-op   \n",
       "463                        financial analyst   \n",
       "\n",
       "                                     employer_1  \\\n",
       "34              state grid corporation of china   \n",
       "191        dauphin county court of common pleas   \n",
       "264  lock haven university mountainserve office   \n",
       "342                   meghmani finechem limited   \n",
       "463                                       kumon   \n",
       "\n",
       "                                      employer_2 ... degree_count time_job_2  \\\n",
       "34                      arizona state university ...            2        1.0   \n",
       "191  alpha phi omega national service fraternity ...            3        1.0   \n",
       "264                  lakeshore community service ...            3        1.0   \n",
       "342                         gail (india) limited ...            2        1.0   \n",
       "463                           bentley university ...            2        2.0   \n",
       "\n",
       "    time_job_3 time_job_4  time_job_1_4  \\\n",
       "34         1.0        2.0           4.0   \n",
       "191        0.0        1.0           2.0   \n",
       "264        1.0        2.0           4.0   \n",
       "342        1.0        0.0           2.0   \n",
       "463        1.0        1.0           4.0   \n",
       "\n",
       "                                            skill_list  ba  ma  do  Ot  \n",
       "34   powerpoint,linux,algorithms,self driving car,c...   1   1   0   0  \n",
       "191  leadership,government administration,powerpoin...   1   1   0   1  \n",
       "264  leadership,microsoft office,teamwork,microsoft...   1   1   0   0  \n",
       "342  powerpoint,c,windows,matlab,chemical engineeri...   1   1   0   0  \n",
       "463  mathematics,auditing,writing,learning center,o...   1   1   0   0  \n",
       "\n",
       "[5 rows x 57 columns]"
      ]
     },
     "execution_count": 110,
     "metadata": {},
     "output_type": "execute_result"
    }
   ],
   "source": [
    "df_ma.head()"
   ]
  },
  {
   "cell_type": "code",
   "execution_count": 108,
   "metadata": {},
   "outputs": [
    {
     "data": {
      "text/plain": [
       "microsoft office      0.025594\n",
       "microsoft excel       0.020048\n",
       "research              0.019888\n",
       "public speaking       0.016830\n",
       "powerpoint            0.016489\n",
       "microsoft word        0.016153\n",
       "customer service      0.015115\n",
       "leadership            0.014438\n",
       "teamwork              0.012344\n",
       "social media          0.011012\n",
       "time management       0.009483\n",
       "data analysis         0.009089\n",
       "event planning        0.008721\n",
       "management            0.008663\n",
       "teaching              0.006867\n",
       "project management    0.006335\n",
       "community outreach    0.005749\n",
       "matlab                0.005706\n",
       "team leadership       0.004672\n",
       "communication         0.004630\n",
       "dtype: float64"
      ]
     },
     "execution_count": 108,
     "metadata": {},
     "output_type": "execute_result"
    }
   ],
   "source": [
    "# do young professionals with masters have more advanced skills? \n",
    "df_ma.skill_list.str.split(',', expand=True).stack().value_counts(normalize=True)[:20]"
   ]
  },
  {
   "cell_type": "markdown",
   "metadata": {},
   "source": [
    "### Conclusion: \n",
    "Before anything further can be done on our research themes, we will attempt to give our skills column more structure (as our primary \"y\" variable under consideration) by clustering skills and return to conducting inferential statistics on themes such as level and type of work experience, industry of employent and education.  "
   ]
  },
  {
   "cell_type": "code",
   "execution_count": null,
   "metadata": {},
   "outputs": [],
   "source": [
    "### to be continued..."
   ]
  }
 ],
 "metadata": {
  "kernelspec": {
   "display_name": "Python 3",
   "language": "python",
   "name": "python3"
  },
  "language_info": {
   "codemirror_mode": {
    "name": "ipython",
    "version": 3
   },
   "file_extension": ".py",
   "mimetype": "text/x-python",
   "name": "python",
   "nbconvert_exporter": "python",
   "pygments_lexer": "ipython3",
   "version": "3.6.6"
  }
 },
 "nbformat": 4,
 "nbformat_minor": 2
}
